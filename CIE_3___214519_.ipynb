{
  "nbformat": 4,
  "nbformat_minor": 0,
  "metadata": {
    "colab": {
      "name": "CIE-3 _ 214519.",
      "provenance": [],
      "collapsed_sections": [],
      "authorship_tag": "ABX9TyMmqg2vXt9XQrQZVvEOzD1C",
      "include_colab_link": true
    },
    "kernelspec": {
      "name": "python3",
      "display_name": "Python 3"
    },
    "language_info": {
      "name": "python"
    }
  },
  "cells": [
    {
      "cell_type": "markdown",
      "metadata": {
        "id": "view-in-github",
        "colab_type": "text"
      },
      "source": [
        "<a href=\"https://colab.research.google.com/github/maharajsreeraam/groupcodesof214519/blob/main/CIE_3___214519_.ipynb\" target=\"_parent\"><img src=\"https://colab.research.google.com/assets/colab-badge.svg\" alt=\"Open In Colab\"/></a>"
      ]
    },
    {
      "cell_type": "code",
      "execution_count": null,
      "metadata": {
        "id": "cE6i2c3sf8B6"
      },
      "outputs": [],
      "source": [
        "\n",
        "import numpy as np"
      ]
    },
    {
      "cell_type": "markdown",
      "source": [
        "Exercise-2"
      ],
      "metadata": {
        "id": "UDPKcSbXoblH"
      }
    },
    {
      "cell_type": "code",
      "source": [
        "import numpy as np\n",
        "print(np.__version__) \n",
        "np.show_config()"
      ],
      "metadata": {
        "colab": {
          "base_uri": "https://localhost:8080/"
        },
        "id": "52d6lyaCkWOm",
        "outputId": "13eb1361-1917-4b08-cd84-91157b759305"
      },
      "execution_count": null,
      "outputs": [
        {
          "output_type": "stream",
          "name": "stdout",
          "text": [
            "1.21.6\n",
            "blas_mkl_info:\n",
            "  NOT AVAILABLE\n",
            "blis_info:\n",
            "  NOT AVAILABLE\n",
            "openblas_info:\n",
            "    libraries = ['openblas', 'openblas']\n",
            "    library_dirs = ['/usr/local/lib']\n",
            "    language = c\n",
            "    define_macros = [('HAVE_CBLAS', None)]\n",
            "    runtime_library_dirs = ['/usr/local/lib']\n",
            "blas_opt_info:\n",
            "    libraries = ['openblas', 'openblas']\n",
            "    library_dirs = ['/usr/local/lib']\n",
            "    language = c\n",
            "    define_macros = [('HAVE_CBLAS', None)]\n",
            "    runtime_library_dirs = ['/usr/local/lib']\n",
            "lapack_mkl_info:\n",
            "  NOT AVAILABLE\n",
            "openblas_lapack_info:\n",
            "    libraries = ['openblas', 'openblas']\n",
            "    library_dirs = ['/usr/local/lib']\n",
            "    language = c\n",
            "    define_macros = [('HAVE_CBLAS', None)]\n",
            "    runtime_library_dirs = ['/usr/local/lib']\n",
            "lapack_opt_info:\n",
            "    libraries = ['openblas', 'openblas']\n",
            "    library_dirs = ['/usr/local/lib']\n",
            "    language = c\n",
            "    define_macros = [('HAVE_CBLAS', None)]\n",
            "    runtime_library_dirs = ['/usr/local/lib']\n",
            "Supported SIMD extensions in this NumPy install:\n",
            "    baseline = SSE,SSE2,SSE3\n",
            "    found = SSSE3,SSE41,POPCNT,SSE42,AVX,F16C,FMA3,AVX2\n",
            "    not found = AVX512F,AVX512CD,AVX512_KNL,AVX512_KNM,AVX512_SKX,AVX512_CLX,AVX512_CNL,AVX512_ICL\n"
          ]
        }
      ]
    },
    {
      "cell_type": "markdown",
      "source": [
        "Exercise-3"
      ],
      "metadata": {
        "id": "WCUGAIT3olZL"
      }
    },
    {
      "cell_type": "code",
      "source": [
        "import numpy as np\n",
        "Z = np.zeros(10) \n",
        "print(Z) \n",
        "\n",
        "\n"
      ],
      "metadata": {
        "colab": {
          "base_uri": "https://localhost:8080/"
        },
        "id": "he77gGtGlEV3",
        "outputId": "b083c466-fa06-454b-b90d-930d52f040e8"
      },
      "execution_count": null,
      "outputs": [
        {
          "output_type": "stream",
          "name": "stdout",
          "text": [
            "[0. 0. 0. 0. 0. 0. 0. 0. 0. 0.]\n"
          ]
        }
      ]
    },
    {
      "cell_type": "markdown",
      "source": [
        "Exercise-4"
      ],
      "metadata": {
        "id": "pffvNnGnovuv"
      }
    },
    {
      "cell_type": "code",
      "source": [
        "import numpy as np\n",
        "np.info(np.add)"
      ],
      "metadata": {
        "colab": {
          "base_uri": "https://localhost:8080/"
        },
        "id": "vcWly15Ul8OZ",
        "outputId": "74d4d1cf-0731-4bc8-e7ba-459b81dd8e6d"
      },
      "execution_count": null,
      "outputs": [
        {
          "output_type": "stream",
          "name": "stdout",
          "text": [
            "add(x1, x2, /, out=None, *, where=True, casting='same_kind', order='K', dtype=None, subok=True[, signature, extobj])\n",
            "\n",
            "Add arguments element-wise.\n",
            "\n",
            "Parameters\n",
            "----------\n",
            "x1, x2 : array_like\n",
            "    The arrays to be added.\n",
            "    If ``x1.shape != x2.shape``, they must be broadcastable to a common\n",
            "    shape (which becomes the shape of the output).\n",
            "out : ndarray, None, or tuple of ndarray and None, optional\n",
            "    A location into which the result is stored. If provided, it must have\n",
            "    a shape that the inputs broadcast to. If not provided or None,\n",
            "    a freshly-allocated array is returned. A tuple (possible only as a\n",
            "    keyword argument) must have length equal to the number of outputs.\n",
            "where : array_like, optional\n",
            "    This condition is broadcast over the input. At locations where the\n",
            "    condition is True, the `out` array will be set to the ufunc result.\n",
            "    Elsewhere, the `out` array will retain its original value.\n",
            "    Note that if an uninitialized `out` array is created via the default\n",
            "    ``out=None``, locations within it where the condition is False will\n",
            "    remain uninitialized.\n",
            "**kwargs\n",
            "    For other keyword-only arguments, see the\n",
            "    :ref:`ufunc docs <ufuncs.kwargs>`.\n",
            "\n",
            "Returns\n",
            "-------\n",
            "add : ndarray or scalar\n",
            "    The sum of `x1` and `x2`, element-wise.\n",
            "    This is a scalar if both `x1` and `x2` are scalars.\n",
            "\n",
            "Notes\n",
            "-----\n",
            "Equivalent to `x1` + `x2` in terms of array broadcasting.\n",
            "\n",
            "Examples\n",
            "--------\n",
            ">>> np.add(1.0, 4.0)\n",
            "5.0\n",
            ">>> x1 = np.arange(9.0).reshape((3, 3))\n",
            ">>> x2 = np.arange(3.0)\n",
            ">>> np.add(x1, x2)\n",
            "array([[  0.,   2.,   4.],\n",
            "       [  3.,   5.,   7.],\n",
            "       [  6.,   8.,  10.]])\n",
            "\n",
            "The ``+`` operator can be used as a shorthand for ``np.add`` on ndarrays.\n",
            "\n",
            ">>> x1 = np.arange(9.0).reshape((3, 3))\n",
            ">>> x2 = np.arange(3.0)\n",
            ">>> x1 + x2\n",
            "array([[ 0.,  2.,  4.],\n",
            "       [ 3.,  5.,  7.],\n",
            "       [ 6.,  8., 10.]])\n"
          ]
        }
      ]
    },
    {
      "cell_type": "code",
      "source": [
        "Z = np.zeros(10) \n",
        "Z[5] = 2 \n",
        "print(Z) \n"
      ],
      "metadata": {
        "colab": {
          "base_uri": "https://localhost:8080/"
        },
        "id": "EYwg-0KYnM_n",
        "outputId": "b2e1c73c-3e29-4b82-ec34-382489500135"
      },
      "execution_count": null,
      "outputs": [
        {
          "output_type": "stream",
          "name": "stdout",
          "text": [
            "[0. 0. 0. 0. 0. 2. 0. 0. 0. 0.]\n"
          ]
        }
      ]
    },
    {
      "cell_type": "code",
      "source": [
        "Z = np.arange(20,50) \n",
        "print(Z) \n"
      ],
      "metadata": {
        "colab": {
          "base_uri": "https://localhost:8080/"
        },
        "id": "TPwoEyDunXJp",
        "outputId": "b86d9754-024d-414d-98ca-20647ad79a1d"
      },
      "execution_count": null,
      "outputs": [
        {
          "output_type": "stream",
          "name": "stdout",
          "text": [
            "[20 21 22 23 24 25 26 27 28 29 30 31 32 33 34 35 36 37 38 39 40 41 42 43\n",
            " 44 45 46 47 48 49]\n"
          ]
        }
      ]
    },
    {
      "cell_type": "code",
      "source": [
        "Z = np.arange(50) \n",
        "Z[::-1] \n"
      ],
      "metadata": {
        "colab": {
          "base_uri": "https://localhost:8080/"
        },
        "id": "bVIBvg11or3E",
        "outputId": "0ea06454-85a2-451d-861e-509f46ac1cdd"
      },
      "execution_count": null,
      "outputs": [
        {
          "output_type": "execute_result",
          "data": {
            "text/plain": [
              "array([49, 48, 47, 46, 45, 44, 43, 42, 41, 40, 39, 38, 37, 36, 35, 34, 33,\n",
              "       32, 31, 30, 29, 28, 27, 26, 25, 24, 23, 22, 21, 20, 19, 18, 17, 16,\n",
              "       15, 14, 13, 12, 11, 10,  9,  8,  7,  6,  5,  4,  3,  2,  1,  0])"
            ]
          },
          "metadata": {},
          "execution_count": 30
        }
      ]
    },
    {
      "cell_type": "code",
      "source": [
        "Z = np.arange(9).reshape(3,3) \n",
        "print(Z)"
      ],
      "metadata": {
        "colab": {
          "base_uri": "https://localhost:8080/"
        },
        "id": "W9zJ24VCpO3w",
        "outputId": "89158096-8244-49b9-94b8-7ed548f87a77"
      },
      "execution_count": null,
      "outputs": [
        {
          "output_type": "stream",
          "name": "stdout",
          "text": [
            "[[0 1 2]\n",
            " [3 4 5]\n",
            " [6 7 8]]\n"
          ]
        }
      ]
    },
    {
      "cell_type": "code",
      "source": [
        "nz = np.nonzero([1,2,0,0,4,0])\n",
        "print(nz)"
      ],
      "metadata": {
        "colab": {
          "base_uri": "https://localhost:8080/"
        },
        "id": "EIEJqWyMlNOr",
        "outputId": "38fba1e4-ea89-4151-b6df-87d1e9cb45a2"
      },
      "execution_count": null,
      "outputs": [
        {
          "output_type": "stream",
          "name": "stdout",
          "text": [
            "(array([0, 1, 4]),)\n"
          ]
        }
      ]
    },
    {
      "cell_type": "markdown",
      "source": [
        "Exercise-10"
      ],
      "metadata": {
        "id": "kD01aaKWl_m8"
      }
    },
    {
      "cell_type": "code",
      "source": [
        "Z = np.eye(3)\n",
        "print(Z)"
      ],
      "metadata": {
        "colab": {
          "base_uri": "https://localhost:8080/"
        },
        "id": "CVlOpVcEmKQO",
        "outputId": "9a7c86f8-8929-4476-d101-3b9f60558689"
      },
      "execution_count": null,
      "outputs": [
        {
          "output_type": "stream",
          "name": "stdout",
          "text": [
            "[[1. 0. 0.]\n",
            " [0. 1. 0.]\n",
            " [0. 0. 1.]]\n"
          ]
        }
      ]
    },
    {
      "cell_type": "markdown",
      "source": [
        "Exercise-11"
      ],
      "metadata": {
        "id": "DTp4uaktmal5"
      }
    },
    {
      "cell_type": "code",
      "source": [
        "Z = np.random.random((3,3,3))\n",
        "print(Z)"
      ],
      "metadata": {
        "colab": {
          "base_uri": "https://localhost:8080/"
        },
        "id": "mxBBHh65mcz6",
        "outputId": "d505198f-9028-4b47-dbc1-2eac494a9244"
      },
      "execution_count": null,
      "outputs": [
        {
          "output_type": "stream",
          "name": "stdout",
          "text": [
            "[[[0.83872722 0.72931184 0.43787498]\n",
            "  [0.44719527 0.97688515 0.44279211]\n",
            "  [0.87564006 0.83325934 0.82837973]]\n",
            "\n",
            " [[0.55144577 0.70225548 0.18665083]\n",
            "  [0.58724493 0.48295483 0.6381489 ]\n",
            "  [0.65216714 0.67383747 0.18711105]]\n",
            "\n",
            " [[0.28072657 0.94923364 0.76618248]\n",
            "  [0.98362719 0.19023442 0.12250561]\n",
            "  [0.49106761 0.57762108 0.14881921]]]\n"
          ]
        }
      ]
    },
    {
      "cell_type": "markdown",
      "source": [
        "Exercise-12"
      ],
      "metadata": {
        "id": "IoZfWyIrny1t"
      }
    },
    {
      "cell_type": "code",
      "source": [
        "Z = np.random.random((10,10))\n",
        "print(Z)\n",
        "Zmin, Zmax = Z.min(), Z.max()\n",
        "print(Zmin, Zmax)"
      ],
      "metadata": {
        "colab": {
          "base_uri": "https://localhost:8080/"
        },
        "id": "Tdfwpjw-n1OY",
        "outputId": "7136553a-1717-4f45-dcc3-cfe92dd4e7ed"
      },
      "execution_count": null,
      "outputs": [
        {
          "output_type": "stream",
          "name": "stdout",
          "text": [
            "[[0.16189584 0.50575723 0.0537293  0.12253594 0.83411932 0.34006094\n",
            "  0.01727421 0.30725442 0.28146674 0.40487759]\n",
            " [0.45615227 0.71109881 0.07023555 0.50102184 0.69917754 0.61033765\n",
            "  0.4791942  0.60928028 0.2983793  0.69936112]\n",
            " [0.58181094 0.22851674 0.63348995 0.58180965 0.65640054 0.40621607\n",
            "  0.03703532 0.95484036 0.38477928 0.53672952]\n",
            " [0.84443117 0.11086394 0.16788903 0.65604075 0.40037017 0.01491978\n",
            "  0.97469814 0.08649354 0.25696141 0.7189334 ]\n",
            " [0.46109349 0.75914963 0.39210626 0.06840445 0.16474603 0.65108513\n",
            "  0.54367103 0.33059165 0.0324063  0.7698414 ]\n",
            " [0.79435424 0.77711709 0.02782988 0.40794359 0.14561257 0.16194776\n",
            "  0.73277521 0.0625606  0.79579685 0.69081332]\n",
            " [0.81753288 0.77419249 0.74679353 0.13405246 0.59667643 0.80869201\n",
            "  0.97895656 0.88461045 0.43433227 0.55483528]\n",
            " [0.07181995 0.47212708 0.35003323 0.08471504 0.59622032 0.17158773\n",
            "  0.73668726 0.36884274 0.63509903 0.1194443 ]\n",
            " [0.87417941 0.06099371 0.65526328 0.86331111 0.55099622 0.60017749\n",
            "  0.23827451 0.11308465 0.03231623 0.20548472]\n",
            " [0.26140012 0.72079618 0.80556641 0.74889867 0.92809318 0.72090454\n",
            "  0.65682317 0.27440179 0.44417646 0.66640217]]\n",
            "0.014919784580138873 0.9789565602492505\n"
          ]
        }
      ]
    },
    {
      "cell_type": "markdown",
      "source": [
        "Exercise-13"
      ],
      "metadata": {
        "id": "pH28h7gAqI6U"
      }
    },
    {
      "cell_type": "code",
      "source": [
        "Z = np.random.random(20) \n",
        "m = Z.mean() \n",
        "print(m)\n"
      ],
      "metadata": {
        "colab": {
          "base_uri": "https://localhost:8080/"
        },
        "id": "4Z2Cy5e0qM_k",
        "outputId": "10dc69bc-1954-4865-a01e-01049341d042"
      },
      "execution_count": null,
      "outputs": [
        {
          "output_type": "stream",
          "name": "stdout",
          "text": [
            "0.47109583862641385\n"
          ]
        }
      ]
    },
    {
      "cell_type": "markdown",
      "source": [
        "Exercise-14"
      ],
      "metadata": {
        "id": "7nODc4Ups7Rd"
      }
    },
    {
      "cell_type": "code",
      "source": [
        "Z = np.ones((10,10)) \n",
        "Z[1:-1,1:-1] = 0 \n"
      ],
      "metadata": {
        "id": "9UPNsSamtGUn"
      },
      "execution_count": null,
      "outputs": []
    },
    {
      "cell_type": "markdown",
      "source": [
        "Exercise-15"
      ],
      "metadata": {
        "id": "s4Q9pn-zqTJo"
      }
    },
    {
      "cell_type": "code",
      "source": [
        "import numpy as np\n",
        "0 * np.nan \n",
        "np.nan == np.nan \n",
        "np.inf > np.nan \n",
        "np.nan - np.nan \n",
        "0.3 == 3 * 0.1 \n"
      ],
      "metadata": {
        "colab": {
          "base_uri": "https://localhost:8080/"
        },
        "id": "TMToByBV_XS7",
        "outputId": "7c2b0cd6-8e16-4e68-be49-458744f6cdba"
      },
      "execution_count": null,
      "outputs": [
        {
          "output_type": "execute_result",
          "data": {
            "text/plain": [
              "False"
            ]
          },
          "metadata": {},
          "execution_count": 7
        }
      ]
    },
    {
      "cell_type": "markdown",
      "source": [
        "Exercise-16"
      ],
      "metadata": {
        "id": "V93pbg9M_hox"
      }
    },
    {
      "cell_type": "code",
      "source": [
        "Z = np.diag(1+np.arange(4),k=-1) \n",
        "print(Z) \n"
      ],
      "metadata": {
        "colab": {
          "base_uri": "https://localhost:8080/"
        },
        "id": "qKm79HTf_lww",
        "outputId": "434cad54-08b1-4cd6-82a1-2db22b03bbb1"
      },
      "execution_count": null,
      "outputs": [
        {
          "output_type": "stream",
          "name": "stdout",
          "text": [
            "[[0 0 0 0 0]\n",
            " [1 0 0 0 0]\n",
            " [0 2 0 0 0]\n",
            " [0 0 3 0 0]\n",
            " [0 0 0 4 0]]\n"
          ]
        }
      ]
    },
    {
      "cell_type": "markdown",
      "source": [
        "Exercise-17"
      ],
      "metadata": {
        "id": "2oE_MvWNARpG"
      }
    },
    {
      "cell_type": "code",
      "source": [
        "import numpy as np"
      ],
      "metadata": {
        "id": "OsAoEG5MAU9o"
      },
      "execution_count": null,
      "outputs": []
    },
    {
      "cell_type": "code",
      "source": [
        "Z = np.zeros((8,8),dtype=int) \n",
        "Z[1::2,::2] = 1 \n",
        "Z[::2,1::2] = 1 \n",
        "print(Z) \n"
      ],
      "metadata": {
        "colab": {
          "base_uri": "https://localhost:8080/"
        },
        "id": "BN6WjdZmAfuH",
        "outputId": "34ea21a1-0e04-4247-f645-29917cef89c7"
      },
      "execution_count": null,
      "outputs": [
        {
          "output_type": "stream",
          "name": "stdout",
          "text": [
            "[[0 1 0 1 0 1 0 1]\n",
            " [1 0 1 0 1 0 1 0]\n",
            " [0 1 0 1 0 1 0 1]\n",
            " [1 0 1 0 1 0 1 0]\n",
            " [0 1 0 1 0 1 0 1]\n",
            " [1 0 1 0 1 0 1 0]\n",
            " [0 1 0 1 0 1 0 1]\n",
            " [1 0 1 0 1 0 1 0]]\n"
          ]
        }
      ]
    },
    {
      "cell_type": "markdown",
      "source": [
        "Exercise-18"
      ],
      "metadata": {
        "id": "tEkOS5D-Aipd"
      }
    },
    {
      "cell_type": "code",
      "source": [
        "print(np.unravel_index(100,(6,7,8))) \n"
      ],
      "metadata": {
        "colab": {
          "base_uri": "https://localhost:8080/"
        },
        "id": "2F0nUYdmAmRw",
        "outputId": "7e534e84-5a40-44f8-da8a-993071f0a2a9"
      },
      "execution_count": null,
      "outputs": [
        {
          "output_type": "stream",
          "name": "stdout",
          "text": [
            "(1, 5, 4)\n"
          ]
        }
      ]
    },
    {
      "cell_type": "markdown",
      "source": [
        "Exercise-19"
      ],
      "metadata": {
        "id": "FyxCOMJAAugw"
      }
    },
    {
      "cell_type": "code",
      "source": [
        "Z = np.tile( np.array([[0,1],[1,0]]), (4,4)) \n",
        "print(Z) \n"
      ],
      "metadata": {
        "colab": {
          "base_uri": "https://localhost:8080/"
        },
        "id": "lxAMmrjaAyd9",
        "outputId": "5d2dbc5b-23ff-4f0e-e361-a9c59807fb78"
      },
      "execution_count": null,
      "outputs": [
        {
          "output_type": "stream",
          "name": "stdout",
          "text": [
            "[[0 1 0 1 0 1 0 1]\n",
            " [1 0 1 0 1 0 1 0]\n",
            " [0 1 0 1 0 1 0 1]\n",
            " [1 0 1 0 1 0 1 0]\n",
            " [0 1 0 1 0 1 0 1]\n",
            " [1 0 1 0 1 0 1 0]\n",
            " [0 1 0 1 0 1 0 1]\n",
            " [1 0 1 0 1 0 1 0]]\n"
          ]
        }
      ]
    },
    {
      "cell_type": "markdown",
      "source": [
        "Exercise-20"
      ],
      "metadata": {
        "id": "iisvliStA3_L"
      }
    },
    {
      "cell_type": "code",
      "source": [
        "Z = np.random.random((5,5)) \n",
        "Zmax, Zmin = Z.max(), Z.min() \n",
        "Z = (Z - Zmin)/(Zmax - Zmin) \n",
        "print(Z) \n"
      ],
      "metadata": {
        "colab": {
          "base_uri": "https://localhost:8080/"
        },
        "id": "hekUW5G7A6kl",
        "outputId": "dabb96ec-7548-4a9f-f807-d88469c43309"
      },
      "execution_count": null,
      "outputs": [
        {
          "output_type": "stream",
          "name": "stdout",
          "text": [
            "[[0.08188229 1.         0.42731889 0.45880991 0.84091554]\n",
            " [0.82161523 0.         0.89721332 0.09221291 0.3013733 ]\n",
            " [0.70908716 0.92500281 0.58246459 0.4900201  0.70566889]\n",
            " [0.93384672 0.19638451 0.52001085 0.15971426 0.78837178]\n",
            " [0.9780057  0.8278211  0.8019057  0.27045547 0.10289927]]\n"
          ]
        }
      ]
    },
    {
      "cell_type": "markdown",
      "source": [
        "Exercise-21"
      ],
      "metadata": {
        "id": "NQK4e5NXBAdu"
      }
    },
    {
      "cell_type": "code",
      "source": [
        "color = np.dtype([(\"r\", np.ubyte, 1), \n",
        "(\"g\", np.ubyte, 1), \n",
        "(\"b\", np.ubyte, 1), \n",
        "(\"a\", np.ubyte, 1)]) \n"
      ],
      "metadata": {
        "colab": {
          "base_uri": "https://localhost:8080/"
        },
        "id": "f414nywyBG8E",
        "outputId": "d75019df-1766-4968-eda3-0b3f902dd852"
      },
      "execution_count": null,
      "outputs": [
        {
          "output_type": "stream",
          "name": "stderr",
          "text": [
            "/usr/local/lib/python3.7/dist-packages/ipykernel_launcher.py:4: FutureWarning: Passing (type, 1) or '1type' as a synonym of type is deprecated; in a future version of numpy, it will be understood as (type, (1,)) / '(1,)type'.\n",
            "  after removing the cwd from sys.path.\n"
          ]
        }
      ]
    },
    {
      "cell_type": "markdown",
      "source": [
        "Exercise-22"
      ],
      "metadata": {
        "id": "WNEyykyxBftr"
      }
    },
    {
      "cell_type": "code",
      "source": [
        "Z = np.dot(np.ones((5,3)), np.ones((3,2))) \n",
        "print(Z) \n"
      ],
      "metadata": {
        "colab": {
          "base_uri": "https://localhost:8080/"
        },
        "id": "FoMn77l5BjBI",
        "outputId": "899399cf-0d33-4cea-bfdf-cb645a657f98"
      },
      "execution_count": null,
      "outputs": [
        {
          "output_type": "stream",
          "name": "stdout",
          "text": [
            "[[3. 3.]\n",
            " [3. 3.]\n",
            " [3. 3.]\n",
            " [3. 3.]\n",
            " [3. 3.]]\n"
          ]
        }
      ]
    },
    {
      "cell_type": "markdown",
      "source": [
        "Exercise-23"
      ],
      "metadata": {
        "id": "lKHJIHALBx-t"
      }
    },
    {
      "cell_type": "code",
      "source": [
        "import numpy as np\n",
        "Z = np.arange(11) \n",
        "Z[(3 < Z) & (Z <= 8)]\n"
      ],
      "metadata": {
        "colab": {
          "base_uri": "https://localhost:8080/"
        },
        "id": "bk9bf-DwB9Fy",
        "outputId": "f44b7ee8-db04-44c9-c492-47a2224fb7ff"
      },
      "execution_count": null,
      "outputs": [
        {
          "output_type": "execute_result",
          "data": {
            "text/plain": [
              "array([4, 5, 6, 7, 8])"
            ]
          },
          "metadata": {},
          "execution_count": 22
        }
      ]
    },
    {
      "cell_type": "markdown",
      "source": [
        "Exercise-24"
      ],
      "metadata": {
        "id": "8qxJ2G3cCiXE"
      }
    },
    {
      "cell_type": "code",
      "source": [
        "print(sum(range(5),-1)) \n",
        "from numpy import * \n",
        "print(sum(range(5),-1)) \n",
        "\n"
      ],
      "metadata": {
        "colab": {
          "base_uri": "https://localhost:8080/"
        },
        "id": "265g-nTKCmGb",
        "outputId": "23b5ed59-6a33-49eb-a92b-bb442a33985d"
      },
      "execution_count": null,
      "outputs": [
        {
          "output_type": "stream",
          "name": "stdout",
          "text": [
            "9\n",
            "10\n"
          ]
        }
      ]
    },
    {
      "cell_type": "markdown",
      "source": [
        "Exercise-25"
      ],
      "metadata": {
        "id": "q1A_bEG3Cv4N"
      }
    },
    {
      "cell_type": "code",
      "source": [
        "import numpy as np\n",
        "Z**Z \n",
        "2 << Z >> 2 \n",
        "Z <- Z \n",
        "1j*Z \n",
        "Z/1/1 \n",
        "\n"
      ],
      "metadata": {
        "colab": {
          "base_uri": "https://localhost:8080/"
        },
        "id": "XpDpdFIiCzrE",
        "outputId": "82496780-71ff-4785-d45b-60f648a598ee"
      },
      "execution_count": null,
      "outputs": [
        {
          "output_type": "execute_result",
          "data": {
            "text/plain": [
              "array([ 0.,  1.,  2.,  3.,  4.,  5.,  6.,  7.,  8.,  9., 10.])"
            ]
          },
          "metadata": {},
          "execution_count": 26
        }
      ]
    },
    {
      "cell_type": "markdown",
      "source": [
        "Exercise-26"
      ],
      "metadata": {
        "id": "Ah3-X4k0DYvV"
      }
    },
    {
      "cell_type": "code",
      "source": [
        "np.array(0) // np.array(0) \n",
        "np.array(0) // np.array(0.) \n",
        "np.array(0) / np.array(0) \n",
        "np.array(0) / np.array(0.) \n",
        "\n",
        " \n"
      ],
      "metadata": {
        "colab": {
          "base_uri": "https://localhost:8080/"
        },
        "id": "ouNtHT7NDb6Q",
        "outputId": "e9668cc5-f321-4ebe-cab3-bdbf6a4b6d9e"
      },
      "execution_count": null,
      "outputs": [
        {
          "output_type": "stream",
          "name": "stderr",
          "text": [
            "/usr/local/lib/python3.7/dist-packages/ipykernel_launcher.py:1: RuntimeWarning: divide by zero encountered in floor_divide\n",
            "  \"\"\"Entry point for launching an IPython kernel.\n",
            "/usr/local/lib/python3.7/dist-packages/ipykernel_launcher.py:2: RuntimeWarning: invalid value encountered in floor_divide\n",
            "  \n",
            "/usr/local/lib/python3.7/dist-packages/ipykernel_launcher.py:3: RuntimeWarning: invalid value encountered in true_divide\n",
            "  This is separate from the ipykernel package so we can avoid doing imports until\n",
            "/usr/local/lib/python3.7/dist-packages/ipykernel_launcher.py:4: RuntimeWarning: invalid value encountered in true_divide\n",
            "  after removing the cwd from sys.path.\n"
          ]
        },
        {
          "output_type": "execute_result",
          "data": {
            "text/plain": [
              "nan"
            ]
          },
          "metadata": {},
          "execution_count": 29
        }
      ]
    },
    {
      "cell_type": "markdown",
      "source": [
        "Exercise-27"
      ],
      "metadata": {
        "id": "Y04o1HhODtiD"
      }
    },
    {
      "cell_type": "code",
      "source": [
        "Z = np.random.uniform(-10,+10,10) \n",
        "print (np.trunc(Z + np.copysign(0.5, Z))) \n"
      ],
      "metadata": {
        "colab": {
          "base_uri": "https://localhost:8080/"
        },
        "id": "EkQtnFH0DyMu",
        "outputId": "e990b0c4-d77e-46a8-bdbb-bd32cad5a7dc"
      },
      "execution_count": null,
      "outputs": [
        {
          "output_type": "stream",
          "name": "stdout",
          "text": [
            "[ -9.   7.  -1.  -9. -10.   3.  -4.  -5.   4.   6.]\n"
          ]
        }
      ]
    },
    {
      "cell_type": "markdown",
      "source": [
        "Exercise-28"
      ],
      "metadata": {
        "id": "KsWkxhF8EhS3"
      }
    },
    {
      "cell_type": "code",
      "source": [
        "Z = np.random.uniform(0,10,10) \n",
        "print (Z - Z%1) \n",
        "print (np.floor(Z)) \n",
        "print (np.ceil(Z)-1) \n"
      ],
      "metadata": {
        "id": "_vD0CU8xEkCN",
        "colab": {
          "base_uri": "https://localhost:8080/"
        },
        "outputId": "222c1a92-134a-4a9f-a677-db1f39a3a291"
      },
      "execution_count": null,
      "outputs": [
        {
          "output_type": "stream",
          "name": "stdout",
          "text": [
            "[7. 8. 0. 5. 3. 9. 2. 1. 6. 5.]\n",
            "[7. 8. 0. 5. 3. 9. 2. 1. 6. 5.]\n",
            "[7. 8. 0. 5. 3. 9. 2. 1. 6. 5.]\n"
          ]
        }
      ]
    },
    {
      "cell_type": "markdown",
      "source": [
        "Exercise-29"
      ],
      "metadata": {
        "id": "NyIiTp7KFUpR"
      }
    },
    {
      "cell_type": "code",
      "source": [
        "Z = np.zeros((5,5)) \n",
        "Z += np.arange(5) \n",
        "print(Z) \n"
      ],
      "metadata": {
        "colab": {
          "base_uri": "https://localhost:8080/"
        },
        "id": "hQz8hfVIFXmp",
        "outputId": "81c3ea20-d91b-4d7e-dc4e-602d50e944d7"
      },
      "execution_count": null,
      "outputs": [
        {
          "output_type": "stream",
          "name": "stdout",
          "text": [
            "[[0. 1. 2. 3. 4.]\n",
            " [0. 1. 2. 3. 4.]\n",
            " [0. 1. 2. 3. 4.]\n",
            " [0. 1. 2. 3. 4.]\n",
            " [0. 1. 2. 3. 4.]]\n"
          ]
        }
      ]
    },
    {
      "cell_type": "markdown",
      "source": [
        "Exercise-30"
      ],
      "metadata": {
        "id": "IdMm4P9iFch3"
      }
    },
    {
      "cell_type": "code",
      "source": [
        "def generate(): \n",
        "    for x in range(10): \n",
        "        yield x \n",
        "Z = np.fromiter(generate(),dtype=float,count=-1) \n",
        "print(Z) \n",
        "\n",
        "\n",
        "\n"
      ],
      "metadata": {
        "colab": {
          "base_uri": "https://localhost:8080/"
        },
        "id": "ZcclYvsxFksV",
        "outputId": "f2b1ee99-1117-4697-c7fd-6a1bc5aa0311"
      },
      "execution_count": null,
      "outputs": [
        {
          "output_type": "stream",
          "name": "stdout",
          "text": [
            "[0. 1. 2. 3. 4. 5. 6. 7. 8. 9.]\n"
          ]
        }
      ]
    },
    {
      "cell_type": "markdown",
      "source": [
        "Exercise-31"
      ],
      "metadata": {
        "id": "oiwRWZbLGuZn"
      }
    },
    {
      "cell_type": "code",
      "source": [
        "Z = np.linspace(0,1,12,endpoint=True)[1:-1] \n",
        "print(Z) \n"
      ],
      "metadata": {
        "colab": {
          "base_uri": "https://localhost:8080/"
        },
        "id": "50i2T8D8Gw8A",
        "outputId": "96eb3207-ef44-46c1-a2fb-04bf5f533263"
      },
      "execution_count": null,
      "outputs": [
        {
          "output_type": "stream",
          "name": "stdout",
          "text": [
            "[0.09090909 0.18181818 0.27272727 0.36363636 0.45454545 0.54545455\n",
            " 0.63636364 0.72727273 0.81818182 0.90909091]\n"
          ]
        }
      ]
    },
    {
      "cell_type": "markdown",
      "source": [
        "Exercise-32"
      ],
      "metadata": {
        "id": "nSRGtHD7G2h3"
      }
    },
    {
      "cell_type": "code",
      "source": [
        "Z = np.random.random(10) \n",
        "Z.sort() \n",
        "print(Z) \n"
      ],
      "metadata": {
        "colab": {
          "base_uri": "https://localhost:8080/"
        },
        "id": "wsD8BEN3G6UE",
        "outputId": "b92eaba7-be86-48cf-e354-6405cfbbd099"
      },
      "execution_count": null,
      "outputs": [
        {
          "output_type": "stream",
          "name": "stdout",
          "text": [
            "[0.20516168 0.41661472 0.44107528 0.49435436 0.58023895 0.70251361\n",
            " 0.76890941 0.76937944 0.80742709 0.98039237]\n"
          ]
        }
      ]
    },
    {
      "cell_type": "markdown",
      "source": [
        "Exercise-33"
      ],
      "metadata": {
        "id": "4EEnqMFHG-o5"
      }
    },
    {
      "cell_type": "code",
      "source": [
        "Z = np.arange(10) \n",
        "np.add.reduce(Z) \n"
      ],
      "metadata": {
        "colab": {
          "base_uri": "https://localhost:8080/"
        },
        "id": "YbcI764iHBVw",
        "outputId": "0da541c0-ef03-46e6-a807-7b6a151cb873"
      },
      "execution_count": null,
      "outputs": [
        {
          "output_type": "execute_result",
          "data": {
            "text/plain": [
              "45"
            ]
          },
          "metadata": {},
          "execution_count": 48
        }
      ]
    },
    {
      "cell_type": "markdown",
      "source": [
        "Exercise-34"
      ],
      "metadata": {
        "id": "Ps4cjYxpHG2J"
      }
    },
    {
      "cell_type": "code",
      "source": [
        "A = np.random.randint(0,2,5) \n",
        "B = np.random.randint(0,2,5) \n",
        "equal = np.allclose(A,B) \n",
        "print(equal) \n"
      ],
      "metadata": {
        "colab": {
          "base_uri": "https://localhost:8080/"
        },
        "id": "_y6K9_HhHKLT",
        "outputId": "d02331cb-1dca-4da1-f0d2-4ef543557ffa"
      },
      "execution_count": null,
      "outputs": [
        {
          "output_type": "stream",
          "name": "stdout",
          "text": [
            "False\n"
          ]
        }
      ]
    },
    {
      "cell_type": "markdown",
      "source": [
        "Exercise-35"
      ],
      "metadata": {
        "id": "8c2-LOlyJILT"
      }
    },
    {
      "cell_type": "code",
      "source": [
        "Z = np.zeros(10)\n",
        "Z.flags.writeable = True\n",
        "Z[0] = 1"
      ],
      "metadata": {
        "id": "rfA21vjpJLO0"
      },
      "execution_count": null,
      "outputs": []
    },
    {
      "cell_type": "markdown",
      "source": [
        "Exercise-36"
      ],
      "metadata": {
        "id": "h4Q4LDjLJqjb"
      }
    },
    {
      "cell_type": "code",
      "source": [
        "Z = np.random.random((10,2)) \n",
        "X,Y = Z[:,0], Z[:,1] \n",
        "R = np.sqrt(X**2+Y**2) \n",
        "T = np.arctan2(Y,X) \n",
        "print(R) \n",
        "print(T) \n"
      ],
      "metadata": {
        "colab": {
          "base_uri": "https://localhost:8080/"
        },
        "id": "uoA9w0emJu_i",
        "outputId": "0c066b60-f0d0-4fb3-d94e-dab118cf09f8"
      },
      "execution_count": null,
      "outputs": [
        {
          "output_type": "stream",
          "name": "stdout",
          "text": [
            "[1.04432529 0.71584029 1.09459706 0.50873731 0.25823853 1.01095182\n",
            " 0.84504827 0.51251595 0.62662089 1.07422889]\n",
            "[0.30892366 1.10975244 1.13930678 0.66978921 0.6444251  0.34173975\n",
            " 1.40486817 1.20928769 0.85317824 0.80116596]\n"
          ]
        }
      ]
    },
    {
      "cell_type": "markdown",
      "source": [
        "Exercise-37"
      ],
      "metadata": {
        "id": "xYKf1Q1uKKRf"
      }
    },
    {
      "cell_type": "code",
      "source": [
        "Z = np.random.random(10) \n",
        "Z[Z.argmax()] = 0 \n",
        "print(Z) \n"
      ],
      "metadata": {
        "colab": {
          "base_uri": "https://localhost:8080/"
        },
        "id": "63hEQtxXKNhJ",
        "outputId": "ecb45f34-0581-4138-964d-2d6149b67aa4"
      },
      "execution_count": null,
      "outputs": [
        {
          "output_type": "stream",
          "name": "stdout",
          "text": [
            "[0.85974221 0.94681296 0.         0.99635829 0.3349113  0.85098835\n",
            " 0.12775303 0.4244272  0.91906556 0.79172669]\n"
          ]
        }
      ]
    },
    {
      "cell_type": "markdown",
      "source": [
        "Exercise-38"
      ],
      "metadata": {
        "id": "Me0U199gKUPm"
      }
    },
    {
      "cell_type": "code",
      "source": [
        "Z = np.zeros((10,10), [('x',float),('y',float)]) \n",
        "Z['x'], Z['y'] = np.meshgrid(np.linspace(0,1,10), \n",
        "np.linspace(0,1,10)) \n",
        "print(Z)\n"
      ],
      "metadata": {
        "colab": {
          "base_uri": "https://localhost:8080/"
        },
        "id": "CFVAjPZvKXki",
        "outputId": "d6fa27a0-aa78-4efc-d723-cb8f12281ffb"
      },
      "execution_count": null,
      "outputs": [
        {
          "output_type": "stream",
          "name": "stdout",
          "text": [
            "[[(0.        , 0.        ) (0.11111111, 0.        )\n",
            "  (0.22222222, 0.        ) (0.33333333, 0.        )\n",
            "  (0.44444444, 0.        ) (0.55555556, 0.        )\n",
            "  (0.66666667, 0.        ) (0.77777778, 0.        )\n",
            "  (0.88888889, 0.        ) (1.        , 0.        )]\n",
            " [(0.        , 0.11111111) (0.11111111, 0.11111111)\n",
            "  (0.22222222, 0.11111111) (0.33333333, 0.11111111)\n",
            "  (0.44444444, 0.11111111) (0.55555556, 0.11111111)\n",
            "  (0.66666667, 0.11111111) (0.77777778, 0.11111111)\n",
            "  (0.88888889, 0.11111111) (1.        , 0.11111111)]\n",
            " [(0.        , 0.22222222) (0.11111111, 0.22222222)\n",
            "  (0.22222222, 0.22222222) (0.33333333, 0.22222222)\n",
            "  (0.44444444, 0.22222222) (0.55555556, 0.22222222)\n",
            "  (0.66666667, 0.22222222) (0.77777778, 0.22222222)\n",
            "  (0.88888889, 0.22222222) (1.        , 0.22222222)]\n",
            " [(0.        , 0.33333333) (0.11111111, 0.33333333)\n",
            "  (0.22222222, 0.33333333) (0.33333333, 0.33333333)\n",
            "  (0.44444444, 0.33333333) (0.55555556, 0.33333333)\n",
            "  (0.66666667, 0.33333333) (0.77777778, 0.33333333)\n",
            "  (0.88888889, 0.33333333) (1.        , 0.33333333)]\n",
            " [(0.        , 0.44444444) (0.11111111, 0.44444444)\n",
            "  (0.22222222, 0.44444444) (0.33333333, 0.44444444)\n",
            "  (0.44444444, 0.44444444) (0.55555556, 0.44444444)\n",
            "  (0.66666667, 0.44444444) (0.77777778, 0.44444444)\n",
            "  (0.88888889, 0.44444444) (1.        , 0.44444444)]\n",
            " [(0.        , 0.55555556) (0.11111111, 0.55555556)\n",
            "  (0.22222222, 0.55555556) (0.33333333, 0.55555556)\n",
            "  (0.44444444, 0.55555556) (0.55555556, 0.55555556)\n",
            "  (0.66666667, 0.55555556) (0.77777778, 0.55555556)\n",
            "  (0.88888889, 0.55555556) (1.        , 0.55555556)]\n",
            " [(0.        , 0.66666667) (0.11111111, 0.66666667)\n",
            "  (0.22222222, 0.66666667) (0.33333333, 0.66666667)\n",
            "  (0.44444444, 0.66666667) (0.55555556, 0.66666667)\n",
            "  (0.66666667, 0.66666667) (0.77777778, 0.66666667)\n",
            "  (0.88888889, 0.66666667) (1.        , 0.66666667)]\n",
            " [(0.        , 0.77777778) (0.11111111, 0.77777778)\n",
            "  (0.22222222, 0.77777778) (0.33333333, 0.77777778)\n",
            "  (0.44444444, 0.77777778) (0.55555556, 0.77777778)\n",
            "  (0.66666667, 0.77777778) (0.77777778, 0.77777778)\n",
            "  (0.88888889, 0.77777778) (1.        , 0.77777778)]\n",
            " [(0.        , 0.88888889) (0.11111111, 0.88888889)\n",
            "  (0.22222222, 0.88888889) (0.33333333, 0.88888889)\n",
            "  (0.44444444, 0.88888889) (0.55555556, 0.88888889)\n",
            "  (0.66666667, 0.88888889) (0.77777778, 0.88888889)\n",
            "  (0.88888889, 0.88888889) (1.        , 0.88888889)]\n",
            " [(0.        , 1.        ) (0.11111111, 1.        )\n",
            "  (0.22222222, 1.        ) (0.33333333, 1.        )\n",
            "  (0.44444444, 1.        ) (0.55555556, 1.        )\n",
            "  (0.66666667, 1.        ) (0.77777778, 1.        )\n",
            "  (0.88888889, 1.        ) (1.        , 1.        )]]\n"
          ]
        }
      ]
    },
    {
      "cell_type": "markdown",
      "source": [
        "Exercise-39"
      ],
      "metadata": {
        "id": "e-8EH7MZKdrP"
      }
    },
    {
      "cell_type": "code",
      "source": [
        "X = np.arange(8) \n",
        "Y = X + 0.5 \n",
        "C = 1.0 / np.subtract.outer(X, Y) \n",
        "print(np.linalg.det(C)) \n"
      ],
      "metadata": {
        "colab": {
          "base_uri": "https://localhost:8080/"
        },
        "id": "1s9_GzrgKhlD",
        "outputId": "742b0e19-ee26-47bc-984c-4f0052e1bdc7"
      },
      "execution_count": null,
      "outputs": [
        {
          "output_type": "stream",
          "name": "stdout",
          "text": [
            "3638.163637117973\n"
          ]
        }
      ]
    },
    {
      "cell_type": "markdown",
      "source": [
        "Exercise-40"
      ],
      "metadata": {
        "id": "eXraBEQOKk3k"
      }
    },
    {
      "cell_type": "code",
      "source": [
        "import numpy as np\n",
        "for dtype in [np.int8, np.int32, np.int64]: \n",
        "    print(np.iinfo(dtype).min),\n",
        "    print(np.iinfo(dtype).max) \n",
        "for dtype in [np.float32, np.float64]: \n",
        "    print(np.finfo(dtype).min) \n",
        "    print(np.finfo(dtype).max) \n",
        "    print(np.finfo(dtype).eps) \n",
        "\n"
      ],
      "metadata": {
        "colab": {
          "base_uri": "https://localhost:8080/"
        },
        "id": "hHzcEH6XKnXK",
        "outputId": "ebcf3cfe-04ce-4ef0-8c6b-151c0ff4df60"
      },
      "execution_count": null,
      "outputs": [
        {
          "output_type": "stream",
          "name": "stdout",
          "text": [
            "-128\n",
            "127\n",
            "-2147483648\n",
            "2147483647\n",
            "-9223372036854775808\n",
            "9223372036854775807\n",
            "-3.4028235e+38\n",
            "3.4028235e+38\n",
            "1.1920929e-07\n",
            "-1.7976931348623157e+308\n",
            "1.7976931348623157e+308\n",
            "2.220446049250313e-16\n"
          ]
        }
      ]
    },
    {
      "cell_type": "markdown",
      "source": [
        "Exercise-41\n"
      ],
      "metadata": {
        "id": "i1spkLa-MNNC"
      }
    },
    {
      "cell_type": "code",
      "source": [
        "np.set_printoptions(threshold=np.nan) \n",
        "Z = np.zeros((25,25)) \n",
        "print(Z) \n",
        " \n"
      ],
      "metadata": {
        "colab": {
          "base_uri": "https://localhost:8080/",
          "height": 380
        },
        "id": "t4Rxc4aMMsJI",
        "outputId": "3a7451bc-26f3-4735-cc72-8255ab0ca89f"
      },
      "execution_count": null,
      "outputs": [
        {
          "output_type": "error",
          "ename": "ValueError",
          "evalue": "ignored",
          "traceback": [
            "\u001b[0;31m---------------------------------------------------------------------------\u001b[0m",
            "\u001b[0;31mValueError\u001b[0m                                Traceback (most recent call last)",
            "\u001b[0;32m<ipython-input-15-77c98699712d>\u001b[0m in \u001b[0;36m<module>\u001b[0;34m()\u001b[0m\n\u001b[0;32m----> 1\u001b[0;31m \u001b[0mnp\u001b[0m\u001b[0;34m.\u001b[0m\u001b[0mset_printoptions\u001b[0m\u001b[0;34m(\u001b[0m\u001b[0mthreshold\u001b[0m\u001b[0;34m=\u001b[0m\u001b[0mnp\u001b[0m\u001b[0;34m.\u001b[0m\u001b[0mnan\u001b[0m\u001b[0;34m)\u001b[0m\u001b[0;34m\u001b[0m\u001b[0;34m\u001b[0m\u001b[0m\n\u001b[0m\u001b[1;32m      2\u001b[0m \u001b[0mZ\u001b[0m \u001b[0;34m=\u001b[0m \u001b[0mnp\u001b[0m\u001b[0;34m.\u001b[0m\u001b[0mzeros\u001b[0m\u001b[0;34m(\u001b[0m\u001b[0;34m(\u001b[0m\u001b[0;36m25\u001b[0m\u001b[0;34m,\u001b[0m\u001b[0;36m25\u001b[0m\u001b[0;34m)\u001b[0m\u001b[0;34m)\u001b[0m\u001b[0;34m\u001b[0m\u001b[0;34m\u001b[0m\u001b[0m\n\u001b[1;32m      3\u001b[0m \u001b[0mprint\u001b[0m\u001b[0;34m(\u001b[0m\u001b[0mZ\u001b[0m\u001b[0;34m)\u001b[0m\u001b[0;34m\u001b[0m\u001b[0;34m\u001b[0m\u001b[0m\n\u001b[1;32m      4\u001b[0m \u001b[0;34m\u001b[0m\u001b[0m\n",
            "\u001b[0;32m/usr/local/lib/python3.7/dist-packages/numpy/core/arrayprint.py\u001b[0m in \u001b[0;36mset_printoptions\u001b[0;34m(precision, threshold, edgeitems, linewidth, suppress, nanstr, infstr, formatter, sign, floatmode, legacy)\u001b[0m\n\u001b[1;32m    252\u001b[0m     opt = _make_options_dict(precision, threshold, edgeitems, linewidth,\n\u001b[1;32m    253\u001b[0m                              \u001b[0msuppress\u001b[0m\u001b[0;34m,\u001b[0m \u001b[0mnanstr\u001b[0m\u001b[0;34m,\u001b[0m \u001b[0minfstr\u001b[0m\u001b[0;34m,\u001b[0m \u001b[0msign\u001b[0m\u001b[0;34m,\u001b[0m \u001b[0mformatter\u001b[0m\u001b[0;34m,\u001b[0m\u001b[0;34m\u001b[0m\u001b[0;34m\u001b[0m\u001b[0m\n\u001b[0;32m--> 254\u001b[0;31m                              floatmode, legacy)\n\u001b[0m\u001b[1;32m    255\u001b[0m     \u001b[0;31m# formatter is always reset\u001b[0m\u001b[0;34m\u001b[0m\u001b[0;34m\u001b[0m\u001b[0;34m\u001b[0m\u001b[0m\n\u001b[1;32m    256\u001b[0m     \u001b[0mopt\u001b[0m\u001b[0;34m[\u001b[0m\u001b[0;34m'formatter'\u001b[0m\u001b[0;34m]\u001b[0m \u001b[0;34m=\u001b[0m \u001b[0mformatter\u001b[0m\u001b[0;34m\u001b[0m\u001b[0;34m\u001b[0m\u001b[0m\n",
            "\u001b[0;32m/usr/local/lib/python3.7/dist-packages/numpy/core/arrayprint.py\u001b[0m in \u001b[0;36m_make_options_dict\u001b[0;34m(precision, threshold, edgeitems, linewidth, suppress, nanstr, infstr, sign, formatter, floatmode, legacy)\u001b[0m\n\u001b[1;32m     86\u001b[0m             \u001b[0;32mraise\u001b[0m \u001b[0mTypeError\u001b[0m\u001b[0;34m(\u001b[0m\u001b[0;34m\"threshold must be numeric\"\u001b[0m\u001b[0;34m)\u001b[0m\u001b[0;34m\u001b[0m\u001b[0;34m\u001b[0m\u001b[0m\n\u001b[1;32m     87\u001b[0m         \u001b[0;32mif\u001b[0m \u001b[0mnp\u001b[0m\u001b[0;34m.\u001b[0m\u001b[0misnan\u001b[0m\u001b[0;34m(\u001b[0m\u001b[0mthreshold\u001b[0m\u001b[0;34m)\u001b[0m\u001b[0;34m:\u001b[0m\u001b[0;34m\u001b[0m\u001b[0;34m\u001b[0m\u001b[0m\n\u001b[0;32m---> 88\u001b[0;31m             raise ValueError(\"threshold must be non-NAN, try \"\n\u001b[0m\u001b[1;32m     89\u001b[0m                              \"sys.maxsize for untruncated representation\")\n\u001b[1;32m     90\u001b[0m \u001b[0;34m\u001b[0m\u001b[0m\n",
            "\u001b[0;31mValueError\u001b[0m: threshold must be non-NAN, try sys.maxsize for untruncated representation"
          ]
        }
      ]
    },
    {
      "cell_type": "markdown",
      "source": [
        "Exercise-42"
      ],
      "metadata": {
        "id": "OCm2q-OlNFlo"
      }
    },
    {
      "cell_type": "code",
      "source": [
        "Z = np.arange(100) \n",
        "v = np.random.uniform(0,100) \n",
        "index = (np.abs(Z-v)).argmin() \n",
        "print(Z[index]) \n"
      ],
      "metadata": {
        "colab": {
          "base_uri": "https://localhost:8080/"
        },
        "id": "gCEK8zsfNIes",
        "outputId": "3c9d65eb-beb7-4f22-9426-008c775130ed"
      },
      "execution_count": null,
      "outputs": [
        {
          "output_type": "stream",
          "name": "stdout",
          "text": [
            "1\n"
          ]
        }
      ]
    },
    {
      "cell_type": "markdown",
      "source": [
        "Exercise-43"
      ],
      "metadata": {
        "id": "VKa80gB8NOPW"
      }
    },
    {
      "cell_type": "code",
      "source": [
        "import numpy as np\n",
        "Z = np.zeros(10, [ ('position', [ ('x', float, 1), \n",
        "('y', float, 1)]), \n",
        "('color', [ ('r', float, 1), \n",
        "('g', float, 1), \n",
        "('b', float, 1)])]) \n",
        "print(Z) \n",
        "\n"
      ],
      "metadata": {
        "colab": {
          "base_uri": "https://localhost:8080/"
        },
        "id": "A4LXcdccNTtp",
        "outputId": "853e0e9b-20e0-4b3d-ba47-871d3c6d4e04"
      },
      "execution_count": null,
      "outputs": [
        {
          "output_type": "stream",
          "name": "stdout",
          "text": [
            "[((0., 0.), (0., 0., 0.)) ((0., 0.), (0., 0., 0.))\n",
            " ((0., 0.), (0., 0., 0.)) ((0., 0.), (0., 0., 0.))\n",
            " ((0., 0.), (0., 0., 0.)) ((0., 0.), (0., 0., 0.))\n",
            " ((0., 0.), (0., 0., 0.)) ((0., 0.), (0., 0., 0.))\n",
            " ((0., 0.), (0., 0., 0.)) ((0., 0.), (0., 0., 0.))]\n"
          ]
        },
        {
          "output_type": "stream",
          "name": "stderr",
          "text": [
            "/usr/local/lib/python3.7/dist-packages/ipykernel_launcher.py:6: FutureWarning: Passing (type, 1) or '1type' as a synonym of type is deprecated; in a future version of numpy, it will be understood as (type, (1,)) / '(1,)type'.\n",
            "  \n"
          ]
        }
      ]
    },
    {
      "cell_type": "markdown",
      "source": [
        "Exercise-44"
      ],
      "metadata": {
        "id": "kM5y3A_BNfBs"
      }
    },
    {
      "cell_type": "code",
      "source": [
        "Z = np.random.random((10,2)) \n",
        "X,Y = np.atleast_2d(Z[:,0]), np.atleast_2d(Z[:,1]) \n",
        "D = np.sqrt( (X-X.T)**2 + (Y-Y.T)**2) \n",
        "print(D) \n"
      ],
      "metadata": {
        "colab": {
          "base_uri": "https://localhost:8080/"
        },
        "id": "SJ6m-VoNNiIu",
        "outputId": "880a5edf-eacf-4c6b-c1df-df9f31871aa3"
      },
      "execution_count": null,
      "outputs": [
        {
          "output_type": "stream",
          "name": "stdout",
          "text": [
            "[[0.         0.36798289 0.79143364 0.46402561 0.65936378 0.67227031\n",
            "  0.17953607 0.61696664 0.10915524 0.78806885]\n",
            " [0.36798289 0.         0.44614014 0.27081281 0.3734023  0.36822618\n",
            "  0.345048   0.45316303 0.36816934 0.42062814]\n",
            " [0.79143364 0.44614014 0.         0.39336446 0.20506235 0.50156789\n",
            "  0.79110323 0.42145827 0.75478632 0.2365871 ]\n",
            " [0.46402561 0.27081281 0.39336446 0.         0.21096428 0.59408084\n",
            "  0.53681237 0.18487218 0.39587961 0.50959766]\n",
            " [0.65936378 0.3734023  0.20506235 0.21096428 0.         0.57849398\n",
            "  0.70079674 0.21906889 0.60196843 0.39119693]\n",
            " [0.67227031 0.36822618 0.50156789 0.59408084 0.57849398 0.\n",
            "  0.55820992 0.74897501 0.7095158  0.29854903]\n",
            " [0.17953607 0.345048   0.79110323 0.53681237 0.70079674 0.55820992\n",
            "  0.         0.71230088 0.27944576 0.73408741]\n",
            " [0.61696664 0.45316303 0.42145827 0.18487218 0.21906889 0.74897501\n",
            "  0.71230088 0.         0.5309347  0.60409769]\n",
            " [0.10915524 0.36816934 0.75478632 0.39587961 0.60196843 0.7095158\n",
            "  0.27944576 0.5309347  0.         0.78390702]\n",
            " [0.78806885 0.42062814 0.2365871  0.50959766 0.39119693 0.29854903\n",
            "  0.73408741 0.60409769 0.78390702 0.        ]]\n"
          ]
        }
      ]
    },
    {
      "cell_type": "code",
      "source": [
        "Z = np.random.random((10,2)) \n",
        "D = (0,1) \n",
        "print(D) \n"
      ],
      "metadata": {
        "colab": {
          "base_uri": "https://localhost:8080/"
        },
        "id": "eUmbi7BpOLwh",
        "outputId": "d1376ad4-382e-4131-b643-205ac9dcc831"
      },
      "execution_count": null,
      "outputs": [
        {
          "output_type": "stream",
          "name": "stdout",
          "text": [
            "(0, 1)\n"
          ]
        }
      ]
    },
    {
      "cell_type": "markdown",
      "source": [
        "Exercise-45"
      ],
      "metadata": {
        "id": "lALkxv7EOlR4"
      }
    },
    {
      "cell_type": "code",
      "source": [
        "Z = np.arange(10, dtype=np.int32) \n",
        "Z = Z.astype(np.float32, copy=False) \n",
        "\n",
        "\n",
        "\n"
      ],
      "metadata": {
        "id": "mBvcs651OrYh"
      },
      "execution_count": null,
      "outputs": []
    },
    {
      "cell_type": "markdown",
      "source": [
        "Exercise-47"
      ],
      "metadata": {
        "id": "wwgCSk4wPclC"
      }
    },
    {
      "cell_type": "code",
      "source": [
        "Z = np.arange(9).reshape(3,3) \n",
        "for index, value in np.ndenumerate(Z): \n",
        "    print(index, value) \n",
        "for index in np.ndindex(Z.shape): \n",
        "    print(index, Z[index]) \n",
        "\n"
      ],
      "metadata": {
        "colab": {
          "base_uri": "https://localhost:8080/"
        },
        "id": "4RKn0OgePfE_",
        "outputId": "e4a16a1d-8aa1-4d24-f1c7-0a0aa6b880f0"
      },
      "execution_count": null,
      "outputs": [
        {
          "output_type": "stream",
          "name": "stdout",
          "text": [
            "(0, 0) 0\n",
            "(0, 1) 1\n",
            "(0, 2) 2\n",
            "(1, 0) 3\n",
            "(1, 1) 4\n",
            "(1, 2) 5\n",
            "(2, 0) 6\n",
            "(2, 1) 7\n",
            "(2, 2) 8\n",
            "(0, 0) 0\n",
            "(0, 1) 1\n",
            "(0, 2) 2\n",
            "(1, 0) 3\n",
            "(1, 1) 4\n",
            "(1, 2) 5\n",
            "(2, 0) 6\n",
            "(2, 1) 7\n",
            "(2, 2) 8\n"
          ]
        }
      ]
    },
    {
      "cell_type": "markdown",
      "source": [
        "Exercise-48"
      ],
      "metadata": {
        "id": "fDLI-eJPPlTv"
      }
    },
    {
      "cell_type": "code",
      "source": [
        ""
      ],
      "metadata": {
        "id": "311TUW87PoeA"
      },
      "execution_count": null,
      "outputs": []
    },
    {
      "cell_type": "code",
      "source": [
        "D = np.sqrt(X*X+Y*Y) \n",
        "sigma, mu = 1.0, 0.0 \n",
        "G = np.exp(-( (D-mu)**2 / ( 2.0 * sigma**2 ) ) ) \n",
        "print(G) \n"
      ],
      "metadata": {
        "colab": {
          "base_uri": "https://localhost:8080/"
        },
        "id": "8DCbKmMlPorD",
        "outputId": "730ec701-71e0-489a-e241-3330fd65c288"
      },
      "execution_count": null,
      "outputs": [
        {
          "output_type": "stream",
          "name": "stdout",
          "text": [
            "[[0.6800825  0.80258793 0.91410127 0.91412495 0.9537642  0.67786669\n",
            "  0.6305149  0.96573457 0.72923475 0.80595112]]\n"
          ]
        }
      ]
    },
    {
      "cell_type": "markdown",
      "source": [
        "Exercise-49"
      ],
      "metadata": {
        "id": "C6qltgYzPsz_"
      }
    },
    {
      "cell_type": "code",
      "source": [
        "import numpy as np\n",
        "n = 10 \n",
        "p = 3 \n",
        "Z = np.zeros((n,n)) \n",
        "np.put(Z, np.random.choice(range(n*n), p, replace=1),1) \n",
        "\n"
      ],
      "metadata": {
        "id": "_VhYGuwQPwCW"
      },
      "execution_count": null,
      "outputs": []
    },
    {
      "cell_type": "markdown",
      "source": [
        "Exercise-50"
      ],
      "metadata": {
        "id": "jPB01p0uQO8i"
      }
    },
    {
      "cell_type": "code",
      "source": [
        "X = np.random.rand(5, 10) \n",
        "Y = X - X.mean(axis=1, keepdims=True) \n",
        "\n"
      ],
      "metadata": {
        "id": "PQue-7I3QR-H"
      },
      "execution_count": null,
      "outputs": []
    },
    {
      "cell_type": "markdown",
      "source": [
        "Exercise-51"
      ],
      "metadata": {
        "id": "xl_oM9nMV_P3"
      }
    },
    {
      "cell_type": "code",
      "source": [
        "Z = np.random.randint(0,10,(3,3)) \n",
        "print(Z) \n",
        "print(Z[Z[:,1].argsort()]) \n"
      ],
      "metadata": {
        "colab": {
          "base_uri": "https://localhost:8080/"
        },
        "id": "O6dH3tXEWDzK",
        "outputId": "42d5708d-e49d-497a-b0d8-0e519138fae3"
      },
      "execution_count": null,
      "outputs": [
        {
          "output_type": "stream",
          "name": "stdout",
          "text": [
            "[[5 3 0]\n",
            " [4 1 4]\n",
            " [3 1 7]]\n",
            "[[4 1 4]\n",
            " [3 1 7]\n",
            " [5 3 0]]\n"
          ]
        }
      ]
    },
    {
      "cell_type": "markdown",
      "source": [
        "Exercise-52"
      ],
      "metadata": {
        "id": "R9w10Op4WHSQ"
      }
    },
    {
      "cell_type": "code",
      "source": [
        "Z = np.random.randint(0,3,(3,10)) \n",
        "print((~Z.any(axis=0)).any()) \n"
      ],
      "metadata": {
        "colab": {
          "base_uri": "https://localhost:8080/"
        },
        "id": "3O7bpOMeWLbf",
        "outputId": "9784f939-959b-4d7b-8eaf-ff3b7cf5fd8a"
      },
      "execution_count": null,
      "outputs": [
        {
          "output_type": "stream",
          "name": "stdout",
          "text": [
            "False\n"
          ]
        }
      ]
    },
    {
      "cell_type": "markdown",
      "source": [
        "Exercise-53"
      ],
      "metadata": {
        "id": "cb0C3jrrWQH7"
      }
    },
    {
      "cell_type": "code",
      "source": [
        "Z = np.random.uniform(0,1,10) \n",
        "z = 0.5 \n",
        "m = Z.flat[np.abs(Z - z).argmin()] \n",
        "print(m) \n"
      ],
      "metadata": {
        "colab": {
          "base_uri": "https://localhost:8080/"
        },
        "id": "5FQEO462WTPN",
        "outputId": "eae3845b-fc51-4952-c796-87f5d95d7fa1"
      },
      "execution_count": null,
      "outputs": [
        {
          "output_type": "stream",
          "name": "stdout",
          "text": [
            "0.5979927035316106\n"
          ]
        }
      ]
    },
    {
      "cell_type": "markdown",
      "source": [
        "Exercise-54"
      ],
      "metadata": {
        "id": "Md7yYzd5WXVY"
      }
    },
    {
      "cell_type": "code",
      "source": [
        "Z =(np.arange(10), \"range_10\")\n",
        "Z = (np.arange(10), \"range_10\") \n",
        "print (Z) \n"
      ],
      "metadata": {
        "colab": {
          "base_uri": "https://localhost:8080/"
        },
        "id": "HEIw5snwWa_Q",
        "outputId": "d23cda51-88fb-4f97-ff88-883f0c271e6d"
      },
      "execution_count": null,
      "outputs": [
        {
          "output_type": "stream",
          "name": "stdout",
          "text": [
            "(array([0, 1, 2, 3, 4, 5, 6, 7, 8, 9]), 'range_10')\n"
          ]
        }
      ]
    },
    {
      "cell_type": "markdown",
      "source": [
        "Exercise-55"
      ],
      "metadata": {
        "id": "IHomDKTG62dL"
      }
    },
    {
      "cell_type": "code",
      "source": [
        "Z = np.ones(10) \n",
        "I = np.random.randint(0,len(Z),20) \n",
        "Z += np.bincount(I, minlength=len(Z)) \n",
        "print(Z) \n"
      ],
      "metadata": {
        "colab": {
          "base_uri": "https://localhost:8080/"
        },
        "id": "qaakHCBq648r",
        "outputId": "7feb42ab-4e5e-42c6-ca1f-15efbd1ac843"
      },
      "execution_count": null,
      "outputs": [
        {
          "output_type": "stream",
          "name": "stdout",
          "text": [
            "[4. 4. 2. 2. 1. 4. 3. 2. 4. 4.]\n"
          ]
        }
      ]
    },
    {
      "cell_type": "markdown",
      "source": [
        "Exercise-56"
      ],
      "metadata": {
        "id": "mPNmWiN-6-vy"
      }
    },
    {
      "cell_type": "code",
      "source": [
        "X = [1,2,3,4,5,6] \n",
        "I = [1,3,9,3,4,1] \n",
        "F = np.bincount(I,X) \n",
        "print(F) \n"
      ],
      "metadata": {
        "colab": {
          "base_uri": "https://localhost:8080/"
        },
        "id": "0dWbvAhE7CW5",
        "outputId": "84c25be8-ac4e-4443-a2f5-49b78d3bc872"
      },
      "execution_count": null,
      "outputs": [
        {
          "output_type": "stream",
          "name": "stdout",
          "text": [
            "[0. 7. 0. 6. 5. 0. 0. 0. 0. 3.]\n"
          ]
        }
      ]
    },
    {
      "cell_type": "markdown",
      "source": [
        "Exercise-57"
      ],
      "metadata": {
        "id": "HZA1U1Tj7FzD"
      }
    },
    {
      "cell_type": "code",
      "source": [
        "w,h = 16,16 \n",
        "I = np.random.randint(0,2,(h,w,3)).astype(np.ubyte) \n",
        "F = I[...,0]*256*256 + I[...,1]*256 +I[...,2] \n",
        "n = len(np.unique(F)) \n",
        "print(np.unique(I)) \n"
      ],
      "metadata": {
        "colab": {
          "base_uri": "https://localhost:8080/"
        },
        "id": "jXpI_zdI7Jjo",
        "outputId": "782bca2c-d8b9-4541-c8ed-c313c09e7ed0"
      },
      "execution_count": null,
      "outputs": [
        {
          "output_type": "stream",
          "name": "stdout",
          "text": [
            "[0 1]\n"
          ]
        }
      ]
    },
    {
      "cell_type": "markdown",
      "source": [
        "Exercise-58"
      ],
      "metadata": {
        "id": "2VI0RCa37M-Z"
      }
    },
    {
      "cell_type": "code",
      "source": [
        "A = np.random.randint(0,10,(3,4,3,4)) \n",
        "sum = A.reshape(A.shape[:-2] + (-1,)).sum(axis=-1) \n",
        "print(sum) \n"
      ],
      "metadata": {
        "colab": {
          "base_uri": "https://localhost:8080/"
        },
        "id": "rHhplh_C7PEC",
        "outputId": "5f54e36d-369d-4ea7-a844-956cee90da3d"
      },
      "execution_count": null,
      "outputs": [
        {
          "output_type": "stream",
          "name": "stdout",
          "text": [
            "[[55 45 60 52]\n",
            " [53 64 58 56]\n",
            " [45 53 48 63]]\n"
          ]
        }
      ]
    },
    {
      "cell_type": "markdown",
      "source": [
        "Exercise-59"
      ],
      "metadata": {
        "id": "iORRV0xp7StP"
      }
    },
    {
      "cell_type": "code",
      "source": [
        "D = np.random.uniform(0,1,100) \n",
        "S = np.random.randint(0,10,100) \n",
        "D_sums = np.bincount(S, weights=D) \n",
        "D_counts = np.bincount(S) \n",
        "D_means = D_sums / D_counts \n",
        "print(D_means) \n"
      ],
      "metadata": {
        "colab": {
          "base_uri": "https://localhost:8080/"
        },
        "id": "rv1vTKNv7VY9",
        "outputId": "631a48ee-3a39-4729-8ca8-76fedca27621"
      },
      "execution_count": null,
      "outputs": [
        {
          "output_type": "stream",
          "name": "stdout",
          "text": [
            "[0.56490586 0.5616153  0.52177868 0.48663561 0.52587527 0.60783106\n",
            " 0.44965175 0.6133393  0.49180775 0.34984975]\n"
          ]
        }
      ]
    },
    {
      "cell_type": "markdown",
      "source": [
        "Exerxice-60"
      ],
      "metadata": {
        "id": "hy6B-8167YUI"
      }
    },
    {
      "cell_type": "code",
      "source": [
        "A = np.random.uniform(0,1,(5,5))\n",
        "B = np.random.uniform(0,1,(5,5))\n",
        "\n",
        "# Slow version\n",
        "np.diag(np.dot(A, B))\n",
        "\n",
        "# Fast version\n",
        "np.sum(A * B.T, axis=1)\n",
        "\n",
        "# Faster version\n",
        "np.einsum(\"ij,ji->i\", A, B)\n"
      ],
      "metadata": {
        "colab": {
          "base_uri": "https://localhost:8080/"
        },
        "id": "0RHR9YTP7a5N",
        "outputId": "9ca722ef-74ae-483a-f890-895de5ccf438"
      },
      "execution_count": 22,
      "outputs": [
        {
          "output_type": "execute_result",
          "data": {
            "text/plain": [
              "array([0.74743285, 0.59752508, 0.88685589, 1.75692082, 1.09985651])"
            ]
          },
          "metadata": {},
          "execution_count": 22
        }
      ]
    },
    {
      "cell_type": "markdown",
      "source": [
        "Exercise-61"
      ],
      "metadata": {
        "id": "6O_P6jYk8Efr"
      }
    },
    {
      "cell_type": "code",
      "source": [
        "Z = np.array([1,2,3,4,5]) \n",
        "nz = 3 \n",
        "Z0 = np.zeros(len(Z) + (len(Z)-1)*(nz)) \n",
        "Z0[::nz+1] = Z \n",
        "print(Z0) \n"
      ],
      "metadata": {
        "colab": {
          "base_uri": "https://localhost:8080/"
        },
        "id": "7vwSLDlW8HkA",
        "outputId": "34bc3988-a023-4fc5-b4e0-1aa61e9efdad"
      },
      "execution_count": 23,
      "outputs": [
        {
          "output_type": "stream",
          "name": "stdout",
          "text": [
            "[1. 0. 0. 0. 2. 0. 0. 0. 3. 0. 0. 0. 4. 0. 0. 0. 5.]\n"
          ]
        }
      ]
    },
    {
      "cell_type": "markdown",
      "source": [
        "Exercise-62"
      ],
      "metadata": {
        "id": "6xvKbnry8QEi"
      }
    },
    {
      "cell_type": "code",
      "source": [
        "A = np.ones((5,5,3)) \n",
        "B = 2*np.ones((5,5)) \n",
        "print(A * B[:,:,None]) \n"
      ],
      "metadata": {
        "colab": {
          "base_uri": "https://localhost:8080/"
        },
        "id": "wHSq7RR88TuP",
        "outputId": "2174bdb6-023f-4f73-eea5-b4926f919d3a"
      },
      "execution_count": 24,
      "outputs": [
        {
          "output_type": "stream",
          "name": "stdout",
          "text": [
            "[[[2. 2. 2.]\n",
            "  [2. 2. 2.]\n",
            "  [2. 2. 2.]\n",
            "  [2. 2. 2.]\n",
            "  [2. 2. 2.]]\n",
            "\n",
            " [[2. 2. 2.]\n",
            "  [2. 2. 2.]\n",
            "  [2. 2. 2.]\n",
            "  [2. 2. 2.]\n",
            "  [2. 2. 2.]]\n",
            "\n",
            " [[2. 2. 2.]\n",
            "  [2. 2. 2.]\n",
            "  [2. 2. 2.]\n",
            "  [2. 2. 2.]\n",
            "  [2. 2. 2.]]\n",
            "\n",
            " [[2. 2. 2.]\n",
            "  [2. 2. 2.]\n",
            "  [2. 2. 2.]\n",
            "  [2. 2. 2.]\n",
            "  [2. 2. 2.]]\n",
            "\n",
            " [[2. 2. 2.]\n",
            "  [2. 2. 2.]\n",
            "  [2. 2. 2.]\n",
            "  [2. 2. 2.]\n",
            "  [2. 2. 2.]]]\n"
          ]
        }
      ]
    },
    {
      "cell_type": "markdown",
      "source": [
        "Exercise-63"
      ],
      "metadata": {
        "id": "bBXc8mVy8XJS"
      }
    },
    {
      "cell_type": "code",
      "source": [
        "A = np.arange(25).reshape(5,5) \n",
        "A[[0,1]] = A[[1,0]] \n",
        "print(A) \n"
      ],
      "metadata": {
        "colab": {
          "base_uri": "https://localhost:8080/"
        },
        "id": "IWRSg4SO8bPp",
        "outputId": "e0c169a0-b9d4-46a4-e021-80006affa961"
      },
      "execution_count": 25,
      "outputs": [
        {
          "output_type": "stream",
          "name": "stdout",
          "text": [
            "[[ 5  6  7  8  9]\n",
            " [ 0  1  2  3  4]\n",
            " [10 11 12 13 14]\n",
            " [15 16 17 18 19]\n",
            " [20 21 22 23 24]]\n"
          ]
        }
      ]
    },
    {
      "cell_type": "markdown",
      "source": [
        "Exercise-64"
      ],
      "metadata": {
        "id": "k9nO-RC48dRV"
      }
    },
    {
      "cell_type": "code",
      "source": [
        "faces = np.random.randint(0,100,(10,3)) \n",
        "F = np.roll(faces.repeat(2,axis=1),-1,axis=1) \n",
        "F = F.reshape(len(F)*3,2) \n",
        "F = np.sort(F,axis=1) \n",
        "G = F.view( dtype=[('p0',F.dtype),('p1',F.dtype)] ) \n",
        "G = np.unique(G) \n",
        "print(G) \n"
      ],
      "metadata": {
        "colab": {
          "base_uri": "https://localhost:8080/"
        },
        "id": "NQXZOUwN8gAz",
        "outputId": "d00b894d-5ba6-499c-e7fd-66396985b168"
      },
      "execution_count": 26,
      "outputs": [
        {
          "output_type": "stream",
          "name": "stdout",
          "text": [
            "[( 6, 69) ( 6, 82) ( 8, 18) ( 8, 77) (10, 33) (10, 36) (18, 65) (18, 77)\n",
            " (18, 80) (22, 41) (22, 87) (25, 73) (25, 88) (31, 33) (31, 84) (33, 36)\n",
            " (33, 84) (41, 87) (52, 80) (52, 98) (61, 72) (61, 96) (65, 80) (69, 82)\n",
            " (72, 96) (73, 88) (80, 98) (86, 90) (90, 90)]\n"
          ]
        }
      ]
    },
    {
      "cell_type": "markdown",
      "source": [
        "Exercise-65"
      ],
      "metadata": {
        "id": "_VjQyFT58kOt"
      }
    },
    {
      "cell_type": "code",
      "source": [
        "C = np.bincount([1,1,2,3,4,4,6]) \n",
        "A = np.repeat(np.arange(len(C)), C) \n",
        "print(A) \n"
      ],
      "metadata": {
        "colab": {
          "base_uri": "https://localhost:8080/"
        },
        "id": "VSPRhmZ58oqy",
        "outputId": "bd013812-19a1-4fde-b529-2bf4d04668cc"
      },
      "execution_count": 27,
      "outputs": [
        {
          "output_type": "stream",
          "name": "stdout",
          "text": [
            "[1 1 2 3 4 4 6]\n"
          ]
        }
      ]
    },
    {
      "cell_type": "markdown",
      "source": [
        "Exercise-66"
      ],
      "metadata": {
        "id": "doGPomKT80qj"
      }
    },
    {
      "cell_type": "code",
      "source": [
        "def moving_average(a, n=3) :\n",
        "    ret = np.cumsum(a, dtype=float)\n",
        "    ret[n:] = ret[n:] - ret[:-n]\n",
        "    return ret[n - 1:] / n\n",
        "Z = np.arange(20)\n",
        "print(moving_average(Z, n=3))"
      ],
      "metadata": {
        "colab": {
          "base_uri": "https://localhost:8080/"
        },
        "id": "5S3RnJed83dY",
        "outputId": "a6efb4c6-5989-4629-cfd8-5e5be6f7266c"
      },
      "execution_count": 29,
      "outputs": [
        {
          "output_type": "stream",
          "name": "stdout",
          "text": [
            "[ 1.  2.  3.  4.  5.  6.  7.  8.  9. 10. 11. 12. 13. 14. 15. 16. 17. 18.]\n"
          ]
        }
      ]
    },
    {
      "cell_type": "markdown",
      "source": [
        "Exercise-67"
      ],
      "metadata": {
        "id": "SIpwwT6L9Fmh"
      }
    },
    {
      "cell_type": "code",
      "source": [
        "from numpy.lib import stride_tricks\n",
        "\n",
        "def rolling(a, window):\n",
        "    shape = (a.size - window + 1, window)\n",
        "    strides = (a.itemsize, a.itemsize)\n",
        "    return stride_tricks.as_strided(a, shape=shape, strides=strides)\n",
        "Z = rolling(np.arange(10), 3)\n",
        "print(Z)\n"
      ],
      "metadata": {
        "colab": {
          "base_uri": "https://localhost:8080/"
        },
        "id": "dENNVWqP9H-3",
        "outputId": "a1c43bfe-fe9b-4a0a-edc8-529c328d92aa"
      },
      "execution_count": 31,
      "outputs": [
        {
          "output_type": "stream",
          "name": "stdout",
          "text": [
            "[[0 1 2]\n",
            " [1 2 3]\n",
            " [2 3 4]\n",
            " [3 4 5]\n",
            " [4 5 6]\n",
            " [5 6 7]\n",
            " [6 7 8]\n",
            " [7 8 9]]\n"
          ]
        }
      ]
    },
    {
      "cell_type": "markdown",
      "source": [
        "Exercise-68"
      ],
      "metadata": {
        "id": "iyFx_-I-9T7Y"
      }
    },
    {
      "cell_type": "code",
      "source": [
        "Z = np.random.randint(0,2,100)\n",
        "np.logical_not(Z, out=Z)\n",
        "\n",
        "Z = np.random.uniform(-1.0,1.0,100)\n",
        "np.negative(Z, out=Z)\n"
      ],
      "metadata": {
        "colab": {
          "base_uri": "https://localhost:8080/"
        },
        "id": "CoOzrC4A9WNL",
        "outputId": "b53e6c4e-fcb8-4b0e-ef20-f4929ef51a57"
      },
      "execution_count": 33,
      "outputs": [
        {
          "output_type": "execute_result",
          "data": {
            "text/plain": [
              "array([ 0.71143134,  0.56899632,  0.05440354, -0.3416795 ,  0.21551624,\n",
              "       -0.06143306, -0.72898258,  0.84141328,  0.6872884 ,  0.44649189,\n",
              "        0.16761279,  0.30159372,  0.44283942, -0.23839679,  0.84530948,\n",
              "        0.15465973,  0.09497181, -0.05012094,  0.84469461, -0.11336304,\n",
              "        0.20285225,  0.16543067,  0.36054913, -0.62947978, -0.1996265 ,\n",
              "        0.68640058, -0.02854576,  0.87807972,  0.42274696, -0.8318396 ,\n",
              "        0.33995744,  0.78891022, -0.09928659,  0.36903107,  0.56571359,\n",
              "       -0.27805991, -0.2262344 ,  0.49346596,  0.65228156, -0.12564414,\n",
              "       -0.92392764,  0.04323074, -0.71951832,  0.32717857,  0.0344122 ,\n",
              "        0.45218518,  0.34355373,  0.90894001,  0.90627113, -0.45401592,\n",
              "       -0.88101924,  0.03487606,  0.78724223,  0.64120263,  0.17434811,\n",
              "        0.82774244, -0.46434745, -0.01459127,  0.76442925,  0.66025024,\n",
              "        0.88710487, -0.3372794 ,  0.86938709, -0.71030111,  0.1674583 ,\n",
              "        0.33775251,  0.8300904 ,  0.49029821,  0.73362038,  0.85320388,\n",
              "        0.25462839, -0.56634656, -0.84165387,  0.54473312, -0.12626782,\n",
              "       -0.79515749,  0.9582645 , -0.85938682,  0.13398148, -0.69864892,\n",
              "       -0.69430999,  0.05133071,  0.27470389,  0.82971955,  0.62364518,\n",
              "        0.89681893,  0.5095735 ,  0.23909644,  0.8844081 ,  0.17433053,\n",
              "        0.0261388 ,  0.99862303,  0.59431002,  0.73771289, -0.51039362,\n",
              "        0.26267772,  0.89504269, -0.53645634,  0.0143948 , -0.26893014])"
            ]
          },
          "metadata": {},
          "execution_count": 33
        }
      ]
    },
    {
      "cell_type": "markdown",
      "source": [
        "Exercise-69"
      ],
      "metadata": {
        "id": "BsEdAPyU9d-a"
      }
    },
    {
      "cell_type": "code",
      "source": [
        "def distance(P0, P1, p):\n",
        "    T = P1 - P0\n",
        "    L = (T**2).sum(axis=1)\n",
        "    U = -((P0[:,0]-p[...,0])*T[:,0] + (P0[:,1]-p[...,1])*T[:,1]) / L\n",
        "    U = U.reshape(len(U),1)\n",
        "    D = P0 + U*T - p\n",
        "    return np.sqrt((D**2).sum(axis=1))\n",
        "\n",
        "P0 = np.random.uniform(-10,10,(10,2))\n",
        "P1 = np.random.uniform(-10,10,(10,2))\n",
        "p  = np.random.uniform(-10,10,( 1,2))\n",
        "print(distance(P0, P1, p))"
      ],
      "metadata": {
        "colab": {
          "base_uri": "https://localhost:8080/"
        },
        "id": "wbyDqMVv9hgh",
        "outputId": "69cc40d6-bfc0-45e9-a265-58d373bc4e06"
      },
      "execution_count": 35,
      "outputs": [
        {
          "output_type": "stream",
          "name": "stdout",
          "text": [
            "[ 1.36548757 11.9274221  12.78157359  2.72041374  2.41707758  7.18284294\n",
            "  8.8603867   3.71818476  8.95591217  2.24202283]\n"
          ]
        }
      ]
    },
    {
      "cell_type": "markdown",
      "source": [
        "Exercise-70"
      ],
      "metadata": {
        "id": "eAJPyAVX9q8C"
      }
    },
    {
      "cell_type": "code",
      "source": [
        "P0 = np.random.uniform(-10, 10, (10,2))\n",
        "P1 = np.random.uniform(-10,10,(10,2))\n",
        "p = np.random.uniform(-10, 10, (10,2))\n",
        "print(np.array([distance(P0,P1,p_i) for p_i in p]))"
      ],
      "metadata": {
        "colab": {
          "base_uri": "https://localhost:8080/"
        },
        "id": "Uh4YVEEx9_nA",
        "outputId": "125eb779-71e5-42f4-b7e0-a8d748a4e9d1"
      },
      "execution_count": 37,
      "outputs": [
        {
          "output_type": "stream",
          "name": "stdout",
          "text": [
            "[[ 3.11143186  2.37222511  5.10294183  0.0626456   4.76896022  4.05233119\n",
            "   6.46990582  2.68695851  0.37956592  1.4651045 ]\n",
            " [ 9.78549374 12.77014379  3.90166847  0.01846009  4.11418302  0.77679878\n",
            "  15.49081993 13.0848231   8.12438287  0.79289669]\n",
            " [ 6.71348601  2.28219756  0.78723706  6.22760031 10.04826515 10.55044595\n",
            "   8.2239742   2.59703559  1.8648755   7.91940882]\n",
            " [ 6.35195684  1.74635644  0.69696946  6.20024666 10.48103873 10.68814801\n",
            "   7.7502884   2.06119676  1.41549521  8.00484217]\n",
            " [ 7.43829433  3.66416478 16.5623882  11.15525961  0.43732655  5.84627512\n",
            "   2.10877949  3.34958996  9.54436018  8.96038038]\n",
            " [ 3.31379589  2.59580354  4.98221981  0.16083295  4.6616167   4.08594527\n",
            "   6.69334024  2.91053745  0.15943331  1.5200349 ]\n",
            " [ 5.84775112  9.85595667  8.30581075  1.75562743 13.63740694  5.9416058\n",
            "   4.6947414   9.54119127 11.0836642   2.16835855]\n",
            " [13.31926196  8.73300069  5.50706884 10.3525798   8.0414969  12.87628584\n",
            "  15.05462546  9.04787532  8.70209995 10.85294273]\n",
            " [11.29139607 12.60214058  1.31932781  2.7373266   1.67675706  3.68243984\n",
            "  16.1529281  12.91686669  9.00909104  2.08087093]\n",
            " [ 3.71710376  0.43631709 13.53031236  8.39084307  0.02423001  3.94743855\n",
            "   1.51729119  0.12171212  5.85979721  6.76144281]]\n"
          ]
        }
      ]
    }
  ]
}