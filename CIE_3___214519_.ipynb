{
  "nbformat": 4,
  "nbformat_minor": 0,
  "metadata": {
    "colab": {
      "name": "CIE-3 _ 214519.",
      "provenance": [],
      "collapsed_sections": [],
      "authorship_tag": "ABX9TyMAkaFJLaFaijORWmov6OAk",
      "include_colab_link": true
    },
    "kernelspec": {
      "name": "python3",
      "display_name": "Python 3"
    },
    "language_info": {
      "name": "python"
    }
  },
  "cells": [
    {
      "cell_type": "markdown",
      "metadata": {
        "id": "view-in-github",
        "colab_type": "text"
      },
      "source": [
        "<a href=\"https://colab.research.google.com/github/maharajsreeraam/groupcodesof214519/blob/main/CIE_3___214519_.ipynb\" target=\"_parent\"><img src=\"https://colab.research.google.com/assets/colab-badge.svg\" alt=\"Open In Colab\"/></a>"
      ]
    },
    {
      "cell_type": "code",
      "execution_count": null,
      "metadata": {
        "id": "cE6i2c3sf8B6"
      },
      "outputs": [],
      "source": [
        "\n",
        "import numpy as np"
      ]
    },
    {
      "cell_type": "markdown",
      "source": [
        "Exercise-2"
      ],
      "metadata": {
        "id": "UDPKcSbXoblH"
      }
    },
    {
      "cell_type": "code",
      "source": [
        "import numpy as np\n",
        "print(np.__version__) \n",
        "np.show_config()"
      ],
      "metadata": {
        "colab": {
          "base_uri": "https://localhost:8080/"
        },
        "id": "52d6lyaCkWOm",
        "outputId": "13eb1361-1917-4b08-cd84-91157b759305"
      },
      "execution_count": null,
      "outputs": [
        {
          "output_type": "stream",
          "name": "stdout",
          "text": [
            "1.21.6\n",
            "blas_mkl_info:\n",
            "  NOT AVAILABLE\n",
            "blis_info:\n",
            "  NOT AVAILABLE\n",
            "openblas_info:\n",
            "    libraries = ['openblas', 'openblas']\n",
            "    library_dirs = ['/usr/local/lib']\n",
            "    language = c\n",
            "    define_macros = [('HAVE_CBLAS', None)]\n",
            "    runtime_library_dirs = ['/usr/local/lib']\n",
            "blas_opt_info:\n",
            "    libraries = ['openblas', 'openblas']\n",
            "    library_dirs = ['/usr/local/lib']\n",
            "    language = c\n",
            "    define_macros = [('HAVE_CBLAS', None)]\n",
            "    runtime_library_dirs = ['/usr/local/lib']\n",
            "lapack_mkl_info:\n",
            "  NOT AVAILABLE\n",
            "openblas_lapack_info:\n",
            "    libraries = ['openblas', 'openblas']\n",
            "    library_dirs = ['/usr/local/lib']\n",
            "    language = c\n",
            "    define_macros = [('HAVE_CBLAS', None)]\n",
            "    runtime_library_dirs = ['/usr/local/lib']\n",
            "lapack_opt_info:\n",
            "    libraries = ['openblas', 'openblas']\n",
            "    library_dirs = ['/usr/local/lib']\n",
            "    language = c\n",
            "    define_macros = [('HAVE_CBLAS', None)]\n",
            "    runtime_library_dirs = ['/usr/local/lib']\n",
            "Supported SIMD extensions in this NumPy install:\n",
            "    baseline = SSE,SSE2,SSE3\n",
            "    found = SSSE3,SSE41,POPCNT,SSE42,AVX,F16C,FMA3,AVX2\n",
            "    not found = AVX512F,AVX512CD,AVX512_KNL,AVX512_KNM,AVX512_SKX,AVX512_CLX,AVX512_CNL,AVX512_ICL\n"
          ]
        }
      ]
    },
    {
      "cell_type": "markdown",
      "source": [
        "Exercise-3"
      ],
      "metadata": {
        "id": "WCUGAIT3olZL"
      }
    },
    {
      "cell_type": "code",
      "source": [
        "import numpy as np\n",
        "Z = np.zeros(10) \n",
        "print(Z) \n",
        "\n",
        "\n"
      ],
      "metadata": {
        "colab": {
          "base_uri": "https://localhost:8080/"
        },
        "id": "he77gGtGlEV3",
        "outputId": "b083c466-fa06-454b-b90d-930d52f040e8"
      },
      "execution_count": null,
      "outputs": [
        {
          "output_type": "stream",
          "name": "stdout",
          "text": [
            "[0. 0. 0. 0. 0. 0. 0. 0. 0. 0.]\n"
          ]
        }
      ]
    },
    {
      "cell_type": "markdown",
      "source": [
        "Exercise-4"
      ],
      "metadata": {
        "id": "pffvNnGnovuv"
      }
    },
    {
      "cell_type": "code",
      "source": [
        "import numpy as np\n",
        "np.info(np.add)"
      ],
      "metadata": {
        "colab": {
          "base_uri": "https://localhost:8080/"
        },
        "id": "vcWly15Ul8OZ",
        "outputId": "74d4d1cf-0731-4bc8-e7ba-459b81dd8e6d"
      },
      "execution_count": null,
      "outputs": [
        {
          "output_type": "stream",
          "name": "stdout",
          "text": [
            "add(x1, x2, /, out=None, *, where=True, casting='same_kind', order='K', dtype=None, subok=True[, signature, extobj])\n",
            "\n",
            "Add arguments element-wise.\n",
            "\n",
            "Parameters\n",
            "----------\n",
            "x1, x2 : array_like\n",
            "    The arrays to be added.\n",
            "    If ``x1.shape != x2.shape``, they must be broadcastable to a common\n",
            "    shape (which becomes the shape of the output).\n",
            "out : ndarray, None, or tuple of ndarray and None, optional\n",
            "    A location into which the result is stored. If provided, it must have\n",
            "    a shape that the inputs broadcast to. If not provided or None,\n",
            "    a freshly-allocated array is returned. A tuple (possible only as a\n",
            "    keyword argument) must have length equal to the number of outputs.\n",
            "where : array_like, optional\n",
            "    This condition is broadcast over the input. At locations where the\n",
            "    condition is True, the `out` array will be set to the ufunc result.\n",
            "    Elsewhere, the `out` array will retain its original value.\n",
            "    Note that if an uninitialized `out` array is created via the default\n",
            "    ``out=None``, locations within it where the condition is False will\n",
            "    remain uninitialized.\n",
            "**kwargs\n",
            "    For other keyword-only arguments, see the\n",
            "    :ref:`ufunc docs <ufuncs.kwargs>`.\n",
            "\n",
            "Returns\n",
            "-------\n",
            "add : ndarray or scalar\n",
            "    The sum of `x1` and `x2`, element-wise.\n",
            "    This is a scalar if both `x1` and `x2` are scalars.\n",
            "\n",
            "Notes\n",
            "-----\n",
            "Equivalent to `x1` + `x2` in terms of array broadcasting.\n",
            "\n",
            "Examples\n",
            "--------\n",
            ">>> np.add(1.0, 4.0)\n",
            "5.0\n",
            ">>> x1 = np.arange(9.0).reshape((3, 3))\n",
            ">>> x2 = np.arange(3.0)\n",
            ">>> np.add(x1, x2)\n",
            "array([[  0.,   2.,   4.],\n",
            "       [  3.,   5.,   7.],\n",
            "       [  6.,   8.,  10.]])\n",
            "\n",
            "The ``+`` operator can be used as a shorthand for ``np.add`` on ndarrays.\n",
            "\n",
            ">>> x1 = np.arange(9.0).reshape((3, 3))\n",
            ">>> x2 = np.arange(3.0)\n",
            ">>> x1 + x2\n",
            "array([[ 0.,  2.,  4.],\n",
            "       [ 3.,  5.,  7.],\n",
            "       [ 6.,  8., 10.]])\n"
          ]
        }
      ]
    },
    {
      "cell_type": "code",
      "source": [
        "Z = np.zeros(10) \n",
        "Z[5] = 2 \n",
        "print(Z) \n"
      ],
      "metadata": {
        "colab": {
          "base_uri": "https://localhost:8080/"
        },
        "id": "EYwg-0KYnM_n",
        "outputId": "b2e1c73c-3e29-4b82-ec34-382489500135"
      },
      "execution_count": null,
      "outputs": [
        {
          "output_type": "stream",
          "name": "stdout",
          "text": [
            "[0. 0. 0. 0. 0. 2. 0. 0. 0. 0.]\n"
          ]
        }
      ]
    },
    {
      "cell_type": "code",
      "source": [
        "Z = np.arange(20,50) \n",
        "print(Z) \n"
      ],
      "metadata": {
        "colab": {
          "base_uri": "https://localhost:8080/"
        },
        "id": "TPwoEyDunXJp",
        "outputId": "b86d9754-024d-414d-98ca-20647ad79a1d"
      },
      "execution_count": null,
      "outputs": [
        {
          "output_type": "stream",
          "name": "stdout",
          "text": [
            "[20 21 22 23 24 25 26 27 28 29 30 31 32 33 34 35 36 37 38 39 40 41 42 43\n",
            " 44 45 46 47 48 49]\n"
          ]
        }
      ]
    },
    {
      "cell_type": "code",
      "source": [
        "Z = np.arange(50) \n",
        "Z[::-1] \n"
      ],
      "metadata": {
        "colab": {
          "base_uri": "https://localhost:8080/"
        },
        "id": "bVIBvg11or3E",
        "outputId": "0ea06454-85a2-451d-861e-509f46ac1cdd"
      },
      "execution_count": null,
      "outputs": [
        {
          "output_type": "execute_result",
          "data": {
            "text/plain": [
              "array([49, 48, 47, 46, 45, 44, 43, 42, 41, 40, 39, 38, 37, 36, 35, 34, 33,\n",
              "       32, 31, 30, 29, 28, 27, 26, 25, 24, 23, 22, 21, 20, 19, 18, 17, 16,\n",
              "       15, 14, 13, 12, 11, 10,  9,  8,  7,  6,  5,  4,  3,  2,  1,  0])"
            ]
          },
          "metadata": {},
          "execution_count": 30
        }
      ]
    },
    {
      "cell_type": "code",
      "source": [
        "Z = np.arange(9).reshape(3,3) \n",
        "print(Z)"
      ],
      "metadata": {
        "colab": {
          "base_uri": "https://localhost:8080/"
        },
        "id": "W9zJ24VCpO3w",
        "outputId": "89158096-8244-49b9-94b8-7ed548f87a77"
      },
      "execution_count": null,
      "outputs": [
        {
          "output_type": "stream",
          "name": "stdout",
          "text": [
            "[[0 1 2]\n",
            " [3 4 5]\n",
            " [6 7 8]]\n"
          ]
        }
      ]
    },
    {
      "cell_type": "code",
      "source": [
        "nz = np.nonzero([1,2,0,0,4,0])\n",
        "print(nz)"
      ],
      "metadata": {
        "colab": {
          "base_uri": "https://localhost:8080/"
        },
        "id": "EIEJqWyMlNOr",
        "outputId": "38fba1e4-ea89-4151-b6df-87d1e9cb45a2"
      },
      "execution_count": null,
      "outputs": [
        {
          "output_type": "stream",
          "name": "stdout",
          "text": [
            "(array([0, 1, 4]),)\n"
          ]
        }
      ]
    },
    {
      "cell_type": "markdown",
      "source": [
        "Exercise-10"
      ],
      "metadata": {
        "id": "kD01aaKWl_m8"
      }
    },
    {
      "cell_type": "code",
      "source": [
        "Z = np.eye(3)\n",
        "print(Z)"
      ],
      "metadata": {
        "colab": {
          "base_uri": "https://localhost:8080/"
        },
        "id": "CVlOpVcEmKQO",
        "outputId": "9a7c86f8-8929-4476-d101-3b9f60558689"
      },
      "execution_count": null,
      "outputs": [
        {
          "output_type": "stream",
          "name": "stdout",
          "text": [
            "[[1. 0. 0.]\n",
            " [0. 1. 0.]\n",
            " [0. 0. 1.]]\n"
          ]
        }
      ]
    },
    {
      "cell_type": "markdown",
      "source": [
        "Exercise-11"
      ],
      "metadata": {
        "id": "DTp4uaktmal5"
      }
    },
    {
      "cell_type": "code",
      "source": [
        "Z = np.random.random((3,3,3))\n",
        "print(Z)"
      ],
      "metadata": {
        "colab": {
          "base_uri": "https://localhost:8080/"
        },
        "id": "mxBBHh65mcz6",
        "outputId": "d505198f-9028-4b47-dbc1-2eac494a9244"
      },
      "execution_count": null,
      "outputs": [
        {
          "output_type": "stream",
          "name": "stdout",
          "text": [
            "[[[0.83872722 0.72931184 0.43787498]\n",
            "  [0.44719527 0.97688515 0.44279211]\n",
            "  [0.87564006 0.83325934 0.82837973]]\n",
            "\n",
            " [[0.55144577 0.70225548 0.18665083]\n",
            "  [0.58724493 0.48295483 0.6381489 ]\n",
            "  [0.65216714 0.67383747 0.18711105]]\n",
            "\n",
            " [[0.28072657 0.94923364 0.76618248]\n",
            "  [0.98362719 0.19023442 0.12250561]\n",
            "  [0.49106761 0.57762108 0.14881921]]]\n"
          ]
        }
      ]
    },
    {
      "cell_type": "markdown",
      "source": [
        "Exercise-12"
      ],
      "metadata": {
        "id": "IoZfWyIrny1t"
      }
    },
    {
      "cell_type": "code",
      "source": [
        "Z = np.random.random((10,10))\n",
        "print(Z)\n",
        "Zmin, Zmax = Z.min(), Z.max()\n",
        "print(Zmin, Zmax)"
      ],
      "metadata": {
        "colab": {
          "base_uri": "https://localhost:8080/"
        },
        "id": "Tdfwpjw-n1OY",
        "outputId": "7136553a-1717-4f45-dcc3-cfe92dd4e7ed"
      },
      "execution_count": null,
      "outputs": [
        {
          "output_type": "stream",
          "name": "stdout",
          "text": [
            "[[0.16189584 0.50575723 0.0537293  0.12253594 0.83411932 0.34006094\n",
            "  0.01727421 0.30725442 0.28146674 0.40487759]\n",
            " [0.45615227 0.71109881 0.07023555 0.50102184 0.69917754 0.61033765\n",
            "  0.4791942  0.60928028 0.2983793  0.69936112]\n",
            " [0.58181094 0.22851674 0.63348995 0.58180965 0.65640054 0.40621607\n",
            "  0.03703532 0.95484036 0.38477928 0.53672952]\n",
            " [0.84443117 0.11086394 0.16788903 0.65604075 0.40037017 0.01491978\n",
            "  0.97469814 0.08649354 0.25696141 0.7189334 ]\n",
            " [0.46109349 0.75914963 0.39210626 0.06840445 0.16474603 0.65108513\n",
            "  0.54367103 0.33059165 0.0324063  0.7698414 ]\n",
            " [0.79435424 0.77711709 0.02782988 0.40794359 0.14561257 0.16194776\n",
            "  0.73277521 0.0625606  0.79579685 0.69081332]\n",
            " [0.81753288 0.77419249 0.74679353 0.13405246 0.59667643 0.80869201\n",
            "  0.97895656 0.88461045 0.43433227 0.55483528]\n",
            " [0.07181995 0.47212708 0.35003323 0.08471504 0.59622032 0.17158773\n",
            "  0.73668726 0.36884274 0.63509903 0.1194443 ]\n",
            " [0.87417941 0.06099371 0.65526328 0.86331111 0.55099622 0.60017749\n",
            "  0.23827451 0.11308465 0.03231623 0.20548472]\n",
            " [0.26140012 0.72079618 0.80556641 0.74889867 0.92809318 0.72090454\n",
            "  0.65682317 0.27440179 0.44417646 0.66640217]]\n",
            "0.014919784580138873 0.9789565602492505\n"
          ]
        }
      ]
    },
    {
      "cell_type": "markdown",
      "source": [
        "Exercise-13"
      ],
      "metadata": {
        "id": "pH28h7gAqI6U"
      }
    },
    {
      "cell_type": "code",
      "source": [
        "Z = np.random.random(20) \n",
        "m = Z.mean() \n",
        "print(m)\n"
      ],
      "metadata": {
        "colab": {
          "base_uri": "https://localhost:8080/"
        },
        "id": "4Z2Cy5e0qM_k",
        "outputId": "10dc69bc-1954-4865-a01e-01049341d042"
      },
      "execution_count": null,
      "outputs": [
        {
          "output_type": "stream",
          "name": "stdout",
          "text": [
            "0.47109583862641385\n"
          ]
        }
      ]
    },
    {
      "cell_type": "markdown",
      "source": [
        "Exercise-14"
      ],
      "metadata": {
        "id": "7nODc4Ups7Rd"
      }
    },
    {
      "cell_type": "code",
      "source": [
        "Z = np.ones((10,10)) \n",
        "Z[1:-1,1:-1] = 0 \n"
      ],
      "metadata": {
        "id": "9UPNsSamtGUn"
      },
      "execution_count": null,
      "outputs": []
    },
    {
      "cell_type": "markdown",
      "source": [
        "Exercise-15"
      ],
      "metadata": {
        "id": "s4Q9pn-zqTJo"
      }
    },
    {
      "cell_type": "code",
      "source": [
        "import numpy as np\n",
        "0 * np.nan \n",
        "np.nan == np.nan \n",
        "np.inf > np.nan \n",
        "np.nan - np.nan \n",
        "0.3 == 3 * 0.1 \n"
      ],
      "metadata": {
        "colab": {
          "base_uri": "https://localhost:8080/"
        },
        "id": "TMToByBV_XS7",
        "outputId": "7c2b0cd6-8e16-4e68-be49-458744f6cdba"
      },
      "execution_count": null,
      "outputs": [
        {
          "output_type": "execute_result",
          "data": {
            "text/plain": [
              "False"
            ]
          },
          "metadata": {},
          "execution_count": 7
        }
      ]
    },
    {
      "cell_type": "markdown",
      "source": [
        "Exercise-16"
      ],
      "metadata": {
        "id": "V93pbg9M_hox"
      }
    },
    {
      "cell_type": "code",
      "source": [
        "Z = np.diag(1+np.arange(4),k=-1) \n",
        "print(Z) \n"
      ],
      "metadata": {
        "colab": {
          "base_uri": "https://localhost:8080/"
        },
        "id": "qKm79HTf_lww",
        "outputId": "434cad54-08b1-4cd6-82a1-2db22b03bbb1"
      },
      "execution_count": null,
      "outputs": [
        {
          "output_type": "stream",
          "name": "stdout",
          "text": [
            "[[0 0 0 0 0]\n",
            " [1 0 0 0 0]\n",
            " [0 2 0 0 0]\n",
            " [0 0 3 0 0]\n",
            " [0 0 0 4 0]]\n"
          ]
        }
      ]
    },
    {
      "cell_type": "markdown",
      "source": [
        "Exercise-17"
      ],
      "metadata": {
        "id": "2oE_MvWNARpG"
      }
    },
    {
      "cell_type": "code",
      "source": [
        "import numpy as np"
      ],
      "metadata": {
        "id": "OsAoEG5MAU9o"
      },
      "execution_count": null,
      "outputs": []
    },
    {
      "cell_type": "code",
      "source": [
        "Z = np.zeros((8,8),dtype=int) \n",
        "Z[1::2,::2] = 1 \n",
        "Z[::2,1::2] = 1 \n",
        "print(Z) \n"
      ],
      "metadata": {
        "colab": {
          "base_uri": "https://localhost:8080/"
        },
        "id": "BN6WjdZmAfuH",
        "outputId": "34ea21a1-0e04-4247-f645-29917cef89c7"
      },
      "execution_count": null,
      "outputs": [
        {
          "output_type": "stream",
          "name": "stdout",
          "text": [
            "[[0 1 0 1 0 1 0 1]\n",
            " [1 0 1 0 1 0 1 0]\n",
            " [0 1 0 1 0 1 0 1]\n",
            " [1 0 1 0 1 0 1 0]\n",
            " [0 1 0 1 0 1 0 1]\n",
            " [1 0 1 0 1 0 1 0]\n",
            " [0 1 0 1 0 1 0 1]\n",
            " [1 0 1 0 1 0 1 0]]\n"
          ]
        }
      ]
    },
    {
      "cell_type": "markdown",
      "source": [
        "Exercise-18"
      ],
      "metadata": {
        "id": "tEkOS5D-Aipd"
      }
    },
    {
      "cell_type": "code",
      "source": [
        "print(np.unravel_index(100,(6,7,8))) \n"
      ],
      "metadata": {
        "colab": {
          "base_uri": "https://localhost:8080/"
        },
        "id": "2F0nUYdmAmRw",
        "outputId": "7e534e84-5a40-44f8-da8a-993071f0a2a9"
      },
      "execution_count": null,
      "outputs": [
        {
          "output_type": "stream",
          "name": "stdout",
          "text": [
            "(1, 5, 4)\n"
          ]
        }
      ]
    },
    {
      "cell_type": "markdown",
      "source": [
        "Exercise-19"
      ],
      "metadata": {
        "id": "FyxCOMJAAugw"
      }
    },
    {
      "cell_type": "code",
      "source": [
        "Z = np.tile( np.array([[0,1],[1,0]]), (4,4)) \n",
        "print(Z) \n"
      ],
      "metadata": {
        "colab": {
          "base_uri": "https://localhost:8080/"
        },
        "id": "lxAMmrjaAyd9",
        "outputId": "5d2dbc5b-23ff-4f0e-e361-a9c59807fb78"
      },
      "execution_count": null,
      "outputs": [
        {
          "output_type": "stream",
          "name": "stdout",
          "text": [
            "[[0 1 0 1 0 1 0 1]\n",
            " [1 0 1 0 1 0 1 0]\n",
            " [0 1 0 1 0 1 0 1]\n",
            " [1 0 1 0 1 0 1 0]\n",
            " [0 1 0 1 0 1 0 1]\n",
            " [1 0 1 0 1 0 1 0]\n",
            " [0 1 0 1 0 1 0 1]\n",
            " [1 0 1 0 1 0 1 0]]\n"
          ]
        }
      ]
    },
    {
      "cell_type": "markdown",
      "source": [
        "Exercise-20"
      ],
      "metadata": {
        "id": "iisvliStA3_L"
      }
    },
    {
      "cell_type": "code",
      "source": [
        "Z = np.random.random((5,5)) \n",
        "Zmax, Zmin = Z.max(), Z.min() \n",
        "Z = (Z - Zmin)/(Zmax - Zmin) \n",
        "print(Z) \n"
      ],
      "metadata": {
        "colab": {
          "base_uri": "https://localhost:8080/"
        },
        "id": "hekUW5G7A6kl",
        "outputId": "dabb96ec-7548-4a9f-f807-d88469c43309"
      },
      "execution_count": null,
      "outputs": [
        {
          "output_type": "stream",
          "name": "stdout",
          "text": [
            "[[0.08188229 1.         0.42731889 0.45880991 0.84091554]\n",
            " [0.82161523 0.         0.89721332 0.09221291 0.3013733 ]\n",
            " [0.70908716 0.92500281 0.58246459 0.4900201  0.70566889]\n",
            " [0.93384672 0.19638451 0.52001085 0.15971426 0.78837178]\n",
            " [0.9780057  0.8278211  0.8019057  0.27045547 0.10289927]]\n"
          ]
        }
      ]
    },
    {
      "cell_type": "markdown",
      "source": [
        "Exercise-21"
      ],
      "metadata": {
        "id": "NQK4e5NXBAdu"
      }
    },
    {
      "cell_type": "code",
      "source": [
        "color = np.dtype([(\"r\", np.ubyte, 1), \n",
        "(\"g\", np.ubyte, 1), \n",
        "(\"b\", np.ubyte, 1), \n",
        "(\"a\", np.ubyte, 1)]) \n"
      ],
      "metadata": {
        "colab": {
          "base_uri": "https://localhost:8080/"
        },
        "id": "f414nywyBG8E",
        "outputId": "d75019df-1766-4968-eda3-0b3f902dd852"
      },
      "execution_count": null,
      "outputs": [
        {
          "output_type": "stream",
          "name": "stderr",
          "text": [
            "/usr/local/lib/python3.7/dist-packages/ipykernel_launcher.py:4: FutureWarning: Passing (type, 1) or '1type' as a synonym of type is deprecated; in a future version of numpy, it will be understood as (type, (1,)) / '(1,)type'.\n",
            "  after removing the cwd from sys.path.\n"
          ]
        }
      ]
    },
    {
      "cell_type": "markdown",
      "source": [
        "Exercise-22"
      ],
      "metadata": {
        "id": "WNEyykyxBftr"
      }
    },
    {
      "cell_type": "code",
      "source": [
        "Z = np.dot(np.ones((5,3)), np.ones((3,2))) \n",
        "print(Z) \n"
      ],
      "metadata": {
        "colab": {
          "base_uri": "https://localhost:8080/"
        },
        "id": "FoMn77l5BjBI",
        "outputId": "899399cf-0d33-4cea-bfdf-cb645a657f98"
      },
      "execution_count": null,
      "outputs": [
        {
          "output_type": "stream",
          "name": "stdout",
          "text": [
            "[[3. 3.]\n",
            " [3. 3.]\n",
            " [3. 3.]\n",
            " [3. 3.]\n",
            " [3. 3.]]\n"
          ]
        }
      ]
    },
    {
      "cell_type": "markdown",
      "source": [
        "Exercise-23"
      ],
      "metadata": {
        "id": "lKHJIHALBx-t"
      }
    },
    {
      "cell_type": "code",
      "source": [
        "import numpy as np\n",
        "Z = np.arange(11) \n",
        "Z[(3 < Z) & (Z <= 8)]\n"
      ],
      "metadata": {
        "colab": {
          "base_uri": "https://localhost:8080/"
        },
        "id": "bk9bf-DwB9Fy",
        "outputId": "f44b7ee8-db04-44c9-c492-47a2224fb7ff"
      },
      "execution_count": null,
      "outputs": [
        {
          "output_type": "execute_result",
          "data": {
            "text/plain": [
              "array([4, 5, 6, 7, 8])"
            ]
          },
          "metadata": {},
          "execution_count": 22
        }
      ]
    },
    {
      "cell_type": "markdown",
      "source": [
        "Exercise-24"
      ],
      "metadata": {
        "id": "8qxJ2G3cCiXE"
      }
    },
    {
      "cell_type": "code",
      "source": [
        "print(sum(range(5),-1)) \n",
        "from numpy import * \n",
        "print(sum(range(5),-1)) \n",
        "\n"
      ],
      "metadata": {
        "colab": {
          "base_uri": "https://localhost:8080/"
        },
        "id": "265g-nTKCmGb",
        "outputId": "23b5ed59-6a33-49eb-a92b-bb442a33985d"
      },
      "execution_count": null,
      "outputs": [
        {
          "output_type": "stream",
          "name": "stdout",
          "text": [
            "9\n",
            "10\n"
          ]
        }
      ]
    },
    {
      "cell_type": "markdown",
      "source": [
        "Exercise-25"
      ],
      "metadata": {
        "id": "q1A_bEG3Cv4N"
      }
    },
    {
      "cell_type": "code",
      "source": [
        "import numpy as np\n",
        "Z**Z \n",
        "2 << Z >> 2 \n",
        "Z <- Z \n",
        "1j*Z \n",
        "Z/1/1 \n",
        "\n"
      ],
      "metadata": {
        "colab": {
          "base_uri": "https://localhost:8080/"
        },
        "id": "XpDpdFIiCzrE",
        "outputId": "82496780-71ff-4785-d45b-60f648a598ee"
      },
      "execution_count": null,
      "outputs": [
        {
          "output_type": "execute_result",
          "data": {
            "text/plain": [
              "array([ 0.,  1.,  2.,  3.,  4.,  5.,  6.,  7.,  8.,  9., 10.])"
            ]
          },
          "metadata": {},
          "execution_count": 26
        }
      ]
    },
    {
      "cell_type": "markdown",
      "source": [
        "Exercise-26"
      ],
      "metadata": {
        "id": "Ah3-X4k0DYvV"
      }
    },
    {
      "cell_type": "code",
      "source": [
        "np.array(0) // np.array(0) \n",
        "np.array(0) // np.array(0.) \n",
        "np.array(0) / np.array(0) \n",
        "np.array(0) / np.array(0.) \n",
        "\n",
        " \n"
      ],
      "metadata": {
        "colab": {
          "base_uri": "https://localhost:8080/"
        },
        "id": "ouNtHT7NDb6Q",
        "outputId": "e9668cc5-f321-4ebe-cab3-bdbf6a4b6d9e"
      },
      "execution_count": null,
      "outputs": [
        {
          "output_type": "stream",
          "name": "stderr",
          "text": [
            "/usr/local/lib/python3.7/dist-packages/ipykernel_launcher.py:1: RuntimeWarning: divide by zero encountered in floor_divide\n",
            "  \"\"\"Entry point for launching an IPython kernel.\n",
            "/usr/local/lib/python3.7/dist-packages/ipykernel_launcher.py:2: RuntimeWarning: invalid value encountered in floor_divide\n",
            "  \n",
            "/usr/local/lib/python3.7/dist-packages/ipykernel_launcher.py:3: RuntimeWarning: invalid value encountered in true_divide\n",
            "  This is separate from the ipykernel package so we can avoid doing imports until\n",
            "/usr/local/lib/python3.7/dist-packages/ipykernel_launcher.py:4: RuntimeWarning: invalid value encountered in true_divide\n",
            "  after removing the cwd from sys.path.\n"
          ]
        },
        {
          "output_type": "execute_result",
          "data": {
            "text/plain": [
              "nan"
            ]
          },
          "metadata": {},
          "execution_count": 29
        }
      ]
    },
    {
      "cell_type": "markdown",
      "source": [
        "Exercise-27"
      ],
      "metadata": {
        "id": "Y04o1HhODtiD"
      }
    },
    {
      "cell_type": "code",
      "source": [
        "Z = np.random.uniform(-10,+10,10) \n",
        "print (np.trunc(Z + np.copysign(0.5, Z))) \n"
      ],
      "metadata": {
        "colab": {
          "base_uri": "https://localhost:8080/"
        },
        "id": "EkQtnFH0DyMu",
        "outputId": "e990b0c4-d77e-46a8-bdbb-bd32cad5a7dc"
      },
      "execution_count": null,
      "outputs": [
        {
          "output_type": "stream",
          "name": "stdout",
          "text": [
            "[ -9.   7.  -1.  -9. -10.   3.  -4.  -5.   4.   6.]\n"
          ]
        }
      ]
    },
    {
      "cell_type": "markdown",
      "source": [
        "Exercise-28"
      ],
      "metadata": {
        "id": "KsWkxhF8EhS3"
      }
    },
    {
      "cell_type": "code",
      "source": [
        "Z = np.random.uniform(0,10,10) \n",
        "print (Z - Z%1) \n",
        "print (np.floor(Z)) \n",
        "print (np.ceil(Z)-1) \n"
      ],
      "metadata": {
        "id": "_vD0CU8xEkCN",
        "colab": {
          "base_uri": "https://localhost:8080/"
        },
        "outputId": "222c1a92-134a-4a9f-a677-db1f39a3a291"
      },
      "execution_count": null,
      "outputs": [
        {
          "output_type": "stream",
          "name": "stdout",
          "text": [
            "[7. 8. 0. 5. 3. 9. 2. 1. 6. 5.]\n",
            "[7. 8. 0. 5. 3. 9. 2. 1. 6. 5.]\n",
            "[7. 8. 0. 5. 3. 9. 2. 1. 6. 5.]\n"
          ]
        }
      ]
    },
    {
      "cell_type": "markdown",
      "source": [
        "Exercise-29"
      ],
      "metadata": {
        "id": "NyIiTp7KFUpR"
      }
    },
    {
      "cell_type": "code",
      "source": [
        "Z = np.zeros((5,5)) \n",
        "Z += np.arange(5) \n",
        "print(Z) \n"
      ],
      "metadata": {
        "colab": {
          "base_uri": "https://localhost:8080/"
        },
        "id": "hQz8hfVIFXmp",
        "outputId": "81c3ea20-d91b-4d7e-dc4e-602d50e944d7"
      },
      "execution_count": null,
      "outputs": [
        {
          "output_type": "stream",
          "name": "stdout",
          "text": [
            "[[0. 1. 2. 3. 4.]\n",
            " [0. 1. 2. 3. 4.]\n",
            " [0. 1. 2. 3. 4.]\n",
            " [0. 1. 2. 3. 4.]\n",
            " [0. 1. 2. 3. 4.]]\n"
          ]
        }
      ]
    },
    {
      "cell_type": "markdown",
      "source": [
        "Exercise-30"
      ],
      "metadata": {
        "id": "IdMm4P9iFch3"
      }
    },
    {
      "cell_type": "code",
      "source": [
        "def generate(): \n",
        "    for x in range(10): \n",
        "        yield x \n",
        "Z = np.fromiter(generate(),dtype=float,count=-1) \n",
        "print(Z) \n",
        "\n",
        "\n",
        "\n"
      ],
      "metadata": {
        "colab": {
          "base_uri": "https://localhost:8080/"
        },
        "id": "ZcclYvsxFksV",
        "outputId": "f2b1ee99-1117-4697-c7fd-6a1bc5aa0311"
      },
      "execution_count": null,
      "outputs": [
        {
          "output_type": "stream",
          "name": "stdout",
          "text": [
            "[0. 1. 2. 3. 4. 5. 6. 7. 8. 9.]\n"
          ]
        }
      ]
    },
    {
      "cell_type": "markdown",
      "source": [
        "Exercise-31"
      ],
      "metadata": {
        "id": "oiwRWZbLGuZn"
      }
    },
    {
      "cell_type": "code",
      "source": [
        "Z = np.linspace(0,1,12,endpoint=True)[1:-1] \n",
        "print(Z) \n"
      ],
      "metadata": {
        "colab": {
          "base_uri": "https://localhost:8080/"
        },
        "id": "50i2T8D8Gw8A",
        "outputId": "96eb3207-ef44-46c1-a2fb-04bf5f533263"
      },
      "execution_count": null,
      "outputs": [
        {
          "output_type": "stream",
          "name": "stdout",
          "text": [
            "[0.09090909 0.18181818 0.27272727 0.36363636 0.45454545 0.54545455\n",
            " 0.63636364 0.72727273 0.81818182 0.90909091]\n"
          ]
        }
      ]
    },
    {
      "cell_type": "markdown",
      "source": [
        "Exercise-32"
      ],
      "metadata": {
        "id": "nSRGtHD7G2h3"
      }
    },
    {
      "cell_type": "code",
      "source": [
        "Z = np.random.random(10) \n",
        "Z.sort() \n",
        "print(Z) \n"
      ],
      "metadata": {
        "colab": {
          "base_uri": "https://localhost:8080/"
        },
        "id": "wsD8BEN3G6UE",
        "outputId": "b92eaba7-be86-48cf-e354-6405cfbbd099"
      },
      "execution_count": null,
      "outputs": [
        {
          "output_type": "stream",
          "name": "stdout",
          "text": [
            "[0.20516168 0.41661472 0.44107528 0.49435436 0.58023895 0.70251361\n",
            " 0.76890941 0.76937944 0.80742709 0.98039237]\n"
          ]
        }
      ]
    },
    {
      "cell_type": "markdown",
      "source": [
        "Exercise-33"
      ],
      "metadata": {
        "id": "4EEnqMFHG-o5"
      }
    },
    {
      "cell_type": "code",
      "source": [
        "Z = np.arange(10) \n",
        "np.add.reduce(Z) \n"
      ],
      "metadata": {
        "colab": {
          "base_uri": "https://localhost:8080/"
        },
        "id": "YbcI764iHBVw",
        "outputId": "0da541c0-ef03-46e6-a807-7b6a151cb873"
      },
      "execution_count": null,
      "outputs": [
        {
          "output_type": "execute_result",
          "data": {
            "text/plain": [
              "45"
            ]
          },
          "metadata": {},
          "execution_count": 48
        }
      ]
    },
    {
      "cell_type": "markdown",
      "source": [
        "Exercise-34"
      ],
      "metadata": {
        "id": "Ps4cjYxpHG2J"
      }
    },
    {
      "cell_type": "code",
      "source": [
        "A = np.random.randint(0,2,5) \n",
        "B = np.random.randint(0,2,5) \n",
        "equal = np.allclose(A,B) \n",
        "print(equal) \n"
      ],
      "metadata": {
        "colab": {
          "base_uri": "https://localhost:8080/"
        },
        "id": "_y6K9_HhHKLT",
        "outputId": "d02331cb-1dca-4da1-f0d2-4ef543557ffa"
      },
      "execution_count": null,
      "outputs": [
        {
          "output_type": "stream",
          "name": "stdout",
          "text": [
            "False\n"
          ]
        }
      ]
    },
    {
      "cell_type": "markdown",
      "source": [
        "Exercise-35"
      ],
      "metadata": {
        "id": "8c2-LOlyJILT"
      }
    },
    {
      "cell_type": "code",
      "source": [
        "Z = np.zeros(10)\n",
        "Z.flags.writeable = True\n",
        "Z[0] = 1"
      ],
      "metadata": {
        "id": "rfA21vjpJLO0"
      },
      "execution_count": null,
      "outputs": []
    },
    {
      "cell_type": "markdown",
      "source": [
        "Exercise-36"
      ],
      "metadata": {
        "id": "h4Q4LDjLJqjb"
      }
    },
    {
      "cell_type": "code",
      "source": [
        "Z = np.random.random((10,2)) \n",
        "X,Y = Z[:,0], Z[:,1] \n",
        "R = np.sqrt(X**2+Y**2) \n",
        "T = np.arctan2(Y,X) \n",
        "print(R) \n",
        "print(T) \n"
      ],
      "metadata": {
        "colab": {
          "base_uri": "https://localhost:8080/"
        },
        "id": "uoA9w0emJu_i",
        "outputId": "0c066b60-f0d0-4fb3-d94e-dab118cf09f8"
      },
      "execution_count": null,
      "outputs": [
        {
          "output_type": "stream",
          "name": "stdout",
          "text": [
            "[1.04432529 0.71584029 1.09459706 0.50873731 0.25823853 1.01095182\n",
            " 0.84504827 0.51251595 0.62662089 1.07422889]\n",
            "[0.30892366 1.10975244 1.13930678 0.66978921 0.6444251  0.34173975\n",
            " 1.40486817 1.20928769 0.85317824 0.80116596]\n"
          ]
        }
      ]
    },
    {
      "cell_type": "markdown",
      "source": [
        "Exercise-37"
      ],
      "metadata": {
        "id": "xYKf1Q1uKKRf"
      }
    },
    {
      "cell_type": "code",
      "source": [
        "Z = np.random.random(10) \n",
        "Z[Z.argmax()] = 0 \n",
        "print(Z) \n"
      ],
      "metadata": {
        "colab": {
          "base_uri": "https://localhost:8080/"
        },
        "id": "63hEQtxXKNhJ",
        "outputId": "ecb45f34-0581-4138-964d-2d6149b67aa4"
      },
      "execution_count": null,
      "outputs": [
        {
          "output_type": "stream",
          "name": "stdout",
          "text": [
            "[0.85974221 0.94681296 0.         0.99635829 0.3349113  0.85098835\n",
            " 0.12775303 0.4244272  0.91906556 0.79172669]\n"
          ]
        }
      ]
    }
  ]
}